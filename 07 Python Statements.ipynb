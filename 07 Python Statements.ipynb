{
 "cells": [
  {
   "cell_type": "markdown",
   "id": "e8ba3152-d1b6-4cc3-ab6a-d9b0a1d3b57b",
   "metadata": {},
   "source": [
    "#### if, elif and else Statements"
   ]
  },
  {
   "cell_type": "code",
   "execution_count": 2,
   "id": "12cd6181-8508-447f-b12a-cb096e0c2045",
   "metadata": {},
   "outputs": [],
   "source": [
    "# 'if' statement allows you to tell the computer to perform alternating functions based on a certain set of results.\n",
    "# 'elif' happens when you have two or more conditioons to check e.g\n",
    "#  if case1:\n",
    "#       perform action1\n",
    "#   elife case2:\n",
    "#      perform action2\n",
    "#   else case3:\n",
    "#      perform action3\n"
   ]
  },
  {
   "cell_type": "code",
   "execution_count": 3,
   "id": "c5e72809-ed52-418c-aa22-23d6abb746c8",
   "metadata": {},
   "outputs": [],
   "source": [
    "# you can see  there are 3 conditions to check and 'elif' is in between, if there are four conditions, it will be if, elif, elif, else and so on"
   ]
  },
  {
   "cell_type": "code",
   "execution_count": 4,
   "id": "c797079e-3161-410d-9b97-dc2d6c962d35",
   "metadata": {},
   "outputs": [],
   "source": [
    "# Let's see this example..."
   ]
  },
  {
   "cell_type": "code",
   "execution_count": 5,
   "id": "d9eee677-ddb2-41d8-b74a-9cc8f99079ff",
   "metadata": {},
   "outputs": [
    {
     "name": "stdout",
     "output_type": "stream",
     "text": [
      "it was true\n"
     ]
    }
   ],
   "source": [
    "if True:\n",
    "    print(\"it was true\")"
   ]
  },
  {
   "cell_type": "code",
   "execution_count": 10,
   "id": "26e0c482-4afb-4c61-95e2-bbf3b43fdc85",
   "metadata": {},
   "outputs": [
    {
     "name": "stdout",
     "output_type": "stream",
     "text": [
      "i will be printed out incase result is false\n"
     ]
    }
   ],
   "source": [
    "result = False\n",
    "\n",
    "if result:\n",
    "    print(\"result was true\")\n",
    "else:\n",
    "    print(\"i will be printed out incase result is false\")\n",
    "\n"
   ]
  },
  {
   "cell_type": "code",
   "execution_count": 11,
   "id": "bac606cf-3282-4c96-9388-01ff4e02d325",
   "metadata": {},
   "outputs": [],
   "source": [
    "# Let's see 'if', 'elif' and 'else'"
   ]
  },
  {
   "cell_type": "code",
   "execution_count": 14,
   "id": "21c6fa7a-c409-4e64-8482-8564334d4907",
   "metadata": {},
   "outputs": [
    {
     "name": "stdin",
     "output_type": "stream",
     "text": [
      "Please enter the location you want to withdraw from:  pos\n"
     ]
    },
    {
     "name": "stdout",
     "output_type": "stream",
     "text": [
      "Your location is: pos\n",
      "Welcome to POS Terminal\n"
     ]
    }
   ],
   "source": [
    "# Check if user wants to withdraw from the bank, we display welcome to the bank\n",
    "\n",
    "loc = input(\"Please enter the location you want to withdraw from: \")\n",
    "print(f\"Your location is: {loc}\")\n",
    "\n",
    "if loc == \"bank\":\n",
    "    print(\"Welcome to our bank\")\n",
    "elif loc == \"pos\":\n",
    "    print(\"Welcome to POS Terminal\")\n",
    "else:\n",
    "    print(\"Where are you?\")"
   ]
  },
  {
   "cell_type": "code",
   "execution_count": 15,
   "id": "3ecfca86-dcde-4515-a60f-1905365eb440",
   "metadata": {},
   "outputs": [],
   "source": [
    "# We can also say..."
   ]
  },
  {
   "cell_type": "code",
   "execution_count": 17,
   "id": "15cdf526-cd0e-4284-bb98-124a92c7b54a",
   "metadata": {},
   "outputs": [
    {
     "name": "stdout",
     "output_type": "stream",
     "text": [
      "Welcome DaddyZani\n"
     ]
    }
   ],
   "source": [
    "person = \"DaddyZani\"\n",
    "\n",
    "if person == \"DaddyZani\":\n",
    "    print(\"Welcome DaddyZani\")\n",
    "else:\n",
    "    print(\"who are you?\")     "
   ]
  },
  {
   "cell_type": "code",
   "execution_count": 19,
   "id": "a4e629c0-1ac8-4b9a-b871-d3d0bd2433a1",
   "metadata": {},
   "outputs": [
    {
     "name": "stdin",
     "output_type": "stream",
     "text": [
      "Enter a number to check if it is Even or Odd:  13\n"
     ]
    },
    {
     "name": "stdout",
     "output_type": "stream",
     "text": [
      "The number 13 you entered is an Odd Number\n"
     ]
    }
   ],
   "source": [
    "# Let's say we are asked to write a Python code to check if a user input is an even or odd number\n",
    "user_input = int(input(\"Enter a number to check if it is Even or Odd: \"))\n",
    "\n",
    "if user_input % 2 == 0:\n",
    "    print(f\"The number {user_input} you entered is an Even Number\")\n",
    "else:\n",
    "    print(f\"The number {user_input} you entered is an Odd Number\")\n",
    "    \n"
   ]
  },
  {
   "cell_type": "code",
   "execution_count": 21,
   "id": "854605d2-1435-4a96-bb6a-000d6f99c8c2",
   "metadata": {},
   "outputs": [
    {
     "name": "stdout",
     "output_type": "stream",
     "text": [
      "The number is positive\n"
     ]
    }
   ],
   "source": [
    "# Let's check another example...\n",
    "# Write a Python code to determine whether a number is Positive, Negative or Neutral\n",
    "\n",
    "number = 10\n",
    "if number == 0:\n",
    "    print(\"The number is neutral\")\n",
    "elif number > 0:\n",
    "    print(\"The number is positive\")\n",
    "else:\n",
    "    print(\"The number is negative\")"
   ]
  },
  {
   "cell_type": "code",
   "execution_count": null,
   "id": "a00ce185-ec87-46d9-b188-59390e8620f9",
   "metadata": {},
   "outputs": [],
   "source": []
  }
 ],
 "metadata": {
  "kernelspec": {
   "display_name": "Python 3 (ipykernel)",
   "language": "python",
   "name": "python3"
  },
  "language_info": {
   "codemirror_mode": {
    "name": "ipython",
    "version": 3
   },
   "file_extension": ".py",
   "mimetype": "text/x-python",
   "name": "python",
   "nbconvert_exporter": "python",
   "pygments_lexer": "ipython3",
   "version": "3.12.7"
  }
 },
 "nbformat": 4,
 "nbformat_minor": 5
}
