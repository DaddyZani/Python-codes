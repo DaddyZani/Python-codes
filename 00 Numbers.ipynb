{
 "cells": [
  {
   "cell_type": "markdown",
   "id": "8f6a3564-868d-491a-af25-324379ca62a1",
   "metadata": {},
   "source": [
    "### Basic Arithimetics\n"
   ]
  },
  {
   "cell_type": "code",
   "execution_count": 2,
   "id": "1c9c0661-b658-427d-8df8-be5d2a896ece",
   "metadata": {},
   "outputs": [
    {
     "data": {
      "text/plain": [
       "8"
      ]
     },
     "execution_count": 2,
     "metadata": {},
     "output_type": "execute_result"
    }
   ],
   "source": [
    "# Addition\n",
    "6+2"
   ]
  },
  {
   "cell_type": "code",
   "execution_count": 3,
   "id": "51660eca-c47c-401f-8ede-6a8a4f41f1c6",
   "metadata": {},
   "outputs": [
    {
     "data": {
      "text/plain": [
       "1.5"
      ]
     },
     "execution_count": 3,
     "metadata": {},
     "output_type": "execute_result"
    }
   ],
   "source": [
    "# Division\n",
    "3/2"
   ]
  },
  {
   "cell_type": "code",
   "execution_count": 4,
   "id": "e7d61792-4fd0-4bf1-a298-4267eaa8342c",
   "metadata": {},
   "outputs": [
    {
     "data": {
      "text/plain": [
       "12"
      ]
     },
     "execution_count": 4,
     "metadata": {},
     "output_type": "execute_result"
    }
   ],
   "source": [
    "# Mulitiplication\n",
    "6*2"
   ]
  },
  {
   "cell_type": "code",
   "execution_count": 5,
   "id": "5735a099-b2e1-40e5-afae-044729d36027",
   "metadata": {},
   "outputs": [
    {
     "data": {
      "text/plain": [
       "1"
      ]
     },
     "execution_count": 5,
     "metadata": {},
     "output_type": "execute_result"
    }
   ],
   "source": [
    "# Floor Division\n",
    "7//4"
   ]
  },
  {
   "cell_type": "code",
   "execution_count": 6,
   "id": "dc9fc0b7-f9f2-4033-b3e1-3b5486dad2be",
   "metadata": {},
   "outputs": [
    {
     "data": {
      "text/plain": [
       "1"
      ]
     },
     "execution_count": 6,
     "metadata": {},
     "output_type": "execute_result"
    }
   ],
   "source": [
    "# Module\n",
    "3%2"
   ]
  },
  {
   "cell_type": "code",
   "execution_count": 7,
   "id": "a105e893-5224-4355-aa93-32d384d9ce9b",
   "metadata": {},
   "outputs": [
    {
     "data": {
      "text/plain": [
       "0"
      ]
     },
     "execution_count": 7,
     "metadata": {},
     "output_type": "execute_result"
    }
   ],
   "source": [
    "6%3"
   ]
  },
  {
   "cell_type": "code",
   "execution_count": 8,
   "id": "89b9e29f-6daa-4ef4-85c2-f245c9c3ac6d",
   "metadata": {},
   "outputs": [
    {
     "data": {
      "text/plain": [
       "5"
      ]
     },
     "execution_count": 8,
     "metadata": {},
     "output_type": "execute_result"
    }
   ],
   "source": [
    "5%6"
   ]
  },
  {
   "cell_type": "code",
   "execution_count": 10,
   "id": "84ecfd2d-1e9f-47c5-ad65-9378b4f8c5d1",
   "metadata": {},
   "outputs": [
    {
     "data": {
      "text/plain": [
       "7"
      ]
     },
     "execution_count": 10,
     "metadata": {},
     "output_type": "execute_result"
    }
   ],
   "source": [
    "7%9"
   ]
  },
  {
   "cell_type": "code",
   "execution_count": 11,
   "id": "b8599fd3-b174-4393-8ae6-21f8dfa1f56c",
   "metadata": {},
   "outputs": [
    {
     "data": {
      "text/plain": [
       "4"
      ]
     },
     "execution_count": 11,
     "metadata": {},
     "output_type": "execute_result"
    }
   ],
   "source": [
    "# Powers\n",
    "2**2"
   ]
  },
  {
   "cell_type": "code",
   "execution_count": 12,
   "id": "d92b4193-1bae-4041-9dab-d161f5eaf50d",
   "metadata": {},
   "outputs": [
    {
     "data": {
      "text/plain": [
       "9.0"
      ]
     },
     "execution_count": 12,
     "metadata": {},
     "output_type": "execute_result"
    }
   ],
   "source": [
    "# Roots\n",
    "81**0.5"
   ]
  },
  {
   "cell_type": "code",
   "execution_count": 13,
   "id": "18212117-0b08-490b-b75b-cd89f5301012",
   "metadata": {},
   "outputs": [
    {
     "data": {
      "text/plain": [
       "105"
      ]
     },
     "execution_count": 13,
     "metadata": {},
     "output_type": "execute_result"
    }
   ],
   "source": [
    "# Parenthesis \n",
    "(3+4) * (9+6)"
   ]
  },
  {
   "cell_type": "markdown",
   "id": "d8e2f918-21cf-41a6-93ef-cee26990e63a",
   "metadata": {},
   "source": [
    "### Variable Assignments\n",
    "Now we seen how to use numbers in Python as a calculator, let's see how we can assign names and create variables.\n",
    "We use a single equals sign to assign labels to variables."
   ]
  },
  {
   "cell_type": "code",
   "execution_count": 14,
   "id": "1632d343-c183-4678-8ed9-0c11e563d73a",
   "metadata": {},
   "outputs": [],
   "source": [
    "# create an object \"a\" and assign it the number 5\n",
    "a = 5"
   ]
  },
  {
   "cell_type": "code",
   "execution_count": 15,
   "id": "fb3a51d9-b4a0-49a5-bbc4-70f34e7b82de",
   "metadata": {},
   "outputs": [
    {
     "data": {
      "text/plain": [
       "5"
      ]
     },
     "execution_count": 15,
     "metadata": {},
     "output_type": "execute_result"
    }
   ],
   "source": [
    "a # calling my variable"
   ]
  },
  {
   "cell_type": "code",
   "execution_count": 16,
   "id": "fd1dfe14-cafe-4c14-9f64-1b27ef60c802",
   "metadata": {},
   "outputs": [
    {
     "data": {
      "text/plain": [
       "10"
      ]
     },
     "execution_count": 16,
     "metadata": {},
     "output_type": "execute_result"
    }
   ],
   "source": [
    "a+a"
   ]
  },
  {
   "cell_type": "code",
   "execution_count": 19,
   "id": "07d68307-78eb-49e9-af93-fa2b581a016e",
   "metadata": {},
   "outputs": [],
   "source": [
    "# If you reassign another value to the same variable, Python will disregard the former value and recognize the current one\n",
    "a = 10"
   ]
  },
  {
   "cell_type": "code",
   "execution_count": 23,
   "id": "f37b7665-cc66-453a-8866-2e24e9deb9a8",
   "metadata": {},
   "outputs": [
    {
     "data": {
      "text/plain": [
       "10"
      ]
     },
     "execution_count": 23,
     "metadata": {},
     "output_type": "execute_result"
    }
   ],
   "source": [
    "a"
   ]
  },
  {
   "cell_type": "code",
   "execution_count": 24,
   "id": "66efc0a8-d746-42e5-a111-4ea3c62f2357",
   "metadata": {},
   "outputs": [],
   "source": [
    "# write a simple program to calculate tax\n",
    "my_income = 100\n",
    "\n",
    "tax_rate = 0.1\n",
    "\n",
    "my_tax = my_income * tax_rate\n"
   ]
  },
  {
   "cell_type": "code",
   "execution_count": 25,
   "id": "434eb660-52e5-4a04-914d-d4edb6f0d1e7",
   "metadata": {},
   "outputs": [
    {
     "data": {
      "text/plain": [
       "10.0"
      ]
     },
     "execution_count": 25,
     "metadata": {},
     "output_type": "execute_result"
    }
   ],
   "source": [
    "# show my tax\n",
    "my_tax"
   ]
  },
  {
   "cell_type": "code",
   "execution_count": null,
   "id": "39b5169c-196b-4813-bde0-8fbe9c0c6b88",
   "metadata": {},
   "outputs": [],
   "source": []
  }
 ],
 "metadata": {
  "kernelspec": {
   "display_name": "Python 3 (ipykernel)",
   "language": "python",
   "name": "python3"
  },
  "language_info": {
   "codemirror_mode": {
    "name": "ipython",
    "version": 3
   },
   "file_extension": ".py",
   "mimetype": "text/x-python",
   "name": "python",
   "nbconvert_exporter": "python",
   "pygments_lexer": "ipython3",
   "version": "3.12.7"
  }
 },
 "nbformat": 4,
 "nbformat_minor": 5
}
