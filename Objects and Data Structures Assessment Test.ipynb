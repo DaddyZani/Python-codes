{
 "cells": [
  {
   "cell_type": "markdown",
   "id": "02998bdc-7360-4f79-a2b6-5587cf378a67",
   "metadata": {},
   "source": [
    "# Numbers"
   ]
  },
  {
   "cell_type": "code",
   "execution_count": 1,
   "id": "6550b16c-f5dd-4890-b103-09b7159ebf3e",
   "metadata": {},
   "outputs": [],
   "source": [
    "# Numbers are fundamental data types used to represent data values. Types of numbers-\n",
    "# Integers (int): whole numbers negative or positive without decimal points e.g 6.12, 1000, -28\n",
    "# Floating point numbers (float): Numbers with decimal points e.g 23.9, 34.0, 3.5\n"
   ]
  },
  {
   "cell_type": "markdown",
   "id": "8050338b-04b8-4319-86aa-855b9b11b61f",
   "metadata": {},
   "source": [
    "#### Multiplication\n",
    "multiplication that is equals to 100.25"
   ]
  },
  {
   "cell_type": "code",
   "execution_count": 4,
   "id": "6ff02842-f294-4ee0-af0c-4d582a1f60b3",
   "metadata": {},
   "outputs": [
    {
     "data": {
      "text/plain": [
       "100.25"
      ]
     },
     "execution_count": 4,
     "metadata": {},
     "output_type": "execute_result"
    }
   ],
   "source": [
    "50.125 * 2"
   ]
  },
  {
   "cell_type": "markdown",
   "id": "f7ea0abc-4e51-4c07-b201-35062ad09f3a",
   "metadata": {},
   "source": [
    "#### Typing of codes"
   ]
  },
  {
   "cell_type": "code",
   "execution_count": 6,
   "id": "f91bf9eb-6961-4e22-8ec1-3e48e15742da",
   "metadata": {},
   "outputs": [
    {
     "data": {
      "text/plain": [
       "44"
      ]
     },
     "execution_count": 6,
     "metadata": {},
     "output_type": "execute_result"
    }
   ],
   "source": [
    "4 * (6+5)"
   ]
  },
  {
   "cell_type": "code",
   "execution_count": 7,
   "id": "c15470a1-f28c-48ea-b020-b57166607e70",
   "metadata": {},
   "outputs": [
    {
     "data": {
      "text/plain": [
       "29"
      ]
     },
     "execution_count": 7,
     "metadata": {},
     "output_type": "execute_result"
    }
   ],
   "source": [
    "4 * 6 + 5"
   ]
  },
  {
   "cell_type": "code",
   "execution_count": 8,
   "id": "efccd5c7-6e4e-450e-977b-1f03ea7fe7cd",
   "metadata": {},
   "outputs": [
    {
     "data": {
      "text/plain": [
       "34"
      ]
     },
     "execution_count": 8,
     "metadata": {},
     "output_type": "execute_result"
    }
   ],
   "source": [
    "4 + 6 * 5"
   ]
  },
  {
   "cell_type": "markdown",
   "id": "cfd06eaa-5f26-455b-8459-bb364c79482b",
   "metadata": {},
   "source": [
    "#### What is the type of the result of this expresion 3 + 1.5 + 4?"
   ]
  },
  {
   "cell_type": "code",
   "execution_count": 10,
   "id": "ed1dfb4f-7cde-44ac-a02e-2da1ef0cbe71",
   "metadata": {},
   "outputs": [
    {
     "data": {
      "text/plain": [
       "8.5"
      ]
     },
     "execution_count": 10,
     "metadata": {},
     "output_type": "execute_result"
    }
   ],
   "source": [
    "3 + 1.5 + 4"
   ]
  },
  {
   "cell_type": "code",
   "execution_count": 11,
   "id": "7d10ce75-5e5d-4842-af4c-ccf19ff2f713",
   "metadata": {},
   "outputs": [],
   "source": [
    "# The type of result is floating point"
   ]
  },
  {
   "cell_type": "code",
   "execution_count": 12,
   "id": "b337956f-3501-4415-b249-14df6fe2c721",
   "metadata": {},
   "outputs": [],
   "source": [
    "#### What would you use to find..."
   ]
  },
  {
   "cell_type": "code",
   "execution_count": 14,
   "id": "69ded03a-2c5b-4395-855f-d1c0758ab600",
   "metadata": {},
   "outputs": [],
   "source": [
    "# Square root = **0.5"
   ]
  },
  {
   "cell_type": "code",
   "execution_count": 15,
   "id": "77e30bb5-63f2-402c-a379-937a6bbf09ca",
   "metadata": {},
   "outputs": [],
   "source": [
    "# Square = **2"
   ]
  },
  {
   "cell_type": "markdown",
   "id": "17c5206d-5d0a-4211-b698-069ecaf090ec",
   "metadata": {},
   "source": [
    "# Strings"
   ]
  },
  {
   "cell_type": "markdown",
   "id": "f5d4b8f4-09e0-415d-a313-59c76ca8a6c9",
   "metadata": {},
   "source": [
    "#### Given the string 'hello' give an index command that returns 'e'"
   ]
  },
  {
   "cell_type": "code",
   "execution_count": 18,
   "id": "d309693e-6f7e-4f2d-a6cc-9f03659fd465",
   "metadata": {},
   "outputs": [],
   "source": [
    "s = \"hello\""
   ]
  },
  {
   "cell_type": "code",
   "execution_count": 19,
   "id": "7b776789-e5ea-44f0-9baf-7b21632dfa59",
   "metadata": {},
   "outputs": [
    {
     "data": {
      "text/plain": [
       "'hello'"
      ]
     },
     "execution_count": 19,
     "metadata": {},
     "output_type": "execute_result"
    }
   ],
   "source": [
    "s"
   ]
  },
  {
   "cell_type": "code",
   "execution_count": 20,
   "id": "cdb876ab-0ed2-49ee-a920-d6d781eb7fac",
   "metadata": {},
   "outputs": [
    {
     "data": {
      "text/plain": [
       "'e'"
      ]
     },
     "execution_count": 20,
     "metadata": {},
     "output_type": "execute_result"
    }
   ],
   "source": [
    "s[1]"
   ]
  },
  {
   "cell_type": "markdown",
   "id": "ac56988b-29c8-4c41-820c-3c19bc4a8640",
   "metadata": {},
   "source": [
    "#### Reversing the string 'hello' using slicing"
   ]
  },
  {
   "cell_type": "code",
   "execution_count": 24,
   "id": "bc63e29c-8cd9-4474-b76c-217939cc4152",
   "metadata": {},
   "outputs": [
    {
     "data": {
      "text/plain": [
       "'olleh'"
      ]
     },
     "execution_count": 24,
     "metadata": {},
     "output_type": "execute_result"
    }
   ],
   "source": [
    "s[::-1]"
   ]
  },
  {
   "cell_type": "markdown",
   "id": "c61d463b-60d3-4ff0-acfd-650f49e2633b",
   "metadata": {},
   "source": [
    "#### Given the String 'hello' give two methods of producing the leter 'o' using indexing"
   ]
  },
  {
   "cell_type": "markdown",
   "id": "ab553327-f075-4d74-9220-a4787ce1e3a9",
   "metadata": {},
   "source": [
    "##### Method 1"
   ]
  },
  {
   "cell_type": "code",
   "execution_count": 27,
   "id": "9ac2f032-908b-4eac-b7ec-ee0df65228ee",
   "metadata": {},
   "outputs": [
    {
     "data": {
      "text/plain": [
       "'o'"
      ]
     },
     "execution_count": 27,
     "metadata": {},
     "output_type": "execute_result"
    }
   ],
   "source": [
    "s[4]"
   ]
  },
  {
   "cell_type": "markdown",
   "id": "bd06b3d5-80c0-4fdf-8deb-4332171dea69",
   "metadata": {},
   "source": [
    "##### Method 2"
   ]
  },
  {
   "cell_type": "code",
   "execution_count": 29,
   "id": "eef6323b-0585-44c1-b92e-5971b38b5cf3",
   "metadata": {},
   "outputs": [
    {
     "data": {
      "text/plain": [
       "'o'"
      ]
     },
     "execution_count": 29,
     "metadata": {},
     "output_type": "execute_result"
    }
   ],
   "source": [
    "s[-1]"
   ]
  },
  {
   "cell_type": "markdown",
   "id": "9b9b7b6b-1312-460c-ae28-551016ca2b23",
   "metadata": {},
   "source": [
    "#### Write a Python code that grabs 'domain' out of the email address user@domain.com"
   ]
  },
  {
   "cell_type": "code",
   "execution_count": 31,
   "id": "61d853fa-b0f1-4cf8-a3b1-af0b99458e12",
   "metadata": {},
   "outputs": [],
   "source": [
    "email = \"user@domain.com\""
   ]
  },
  {
   "cell_type": "code",
   "execution_count": 38,
   "id": "faa024b4-92c1-4ed4-9a9c-a460d0bced80",
   "metadata": {},
   "outputs": [
    {
     "data": {
      "text/plain": [
       "'domain'"
      ]
     },
     "execution_count": 38,
     "metadata": {},
     "output_type": "execute_result"
    }
   ],
   "source": [
    "email[5:11]"
   ]
  },
  {
   "cell_type": "markdown",
   "id": "179314c4-3eec-459f-978a-779a0cab541a",
   "metadata": {},
   "source": [
    "# Lists"
   ]
  },
  {
   "cell_type": "markdown",
   "id": "dbe2da14-55fb-4663-9542-5c8ca2f6ab5f",
   "metadata": {},
   "source": [
    "#### Build this List [0,0,0] in two separate way"
   ]
  },
  {
   "cell_type": "markdown",
   "id": "b4e325cf-99e1-4459-8168-0762d7373639",
   "metadata": {},
   "source": [
    "##### Method 1"
   ]
  },
  {
   "cell_type": "code",
   "execution_count": 44,
   "id": "7ec56546-690c-423a-bdbb-dfe3cc876f66",
   "metadata": {},
   "outputs": [],
   "source": [
    "a = list([0, 0, 0])"
   ]
  },
  {
   "cell_type": "code",
   "execution_count": 45,
   "id": "2e989bed-145e-4345-ad8a-9ecabf03220d",
   "metadata": {},
   "outputs": [
    {
     "data": {
      "text/plain": [
       "[0, 0, 0]"
      ]
     },
     "execution_count": 45,
     "metadata": {},
     "output_type": "execute_result"
    }
   ],
   "source": [
    "a"
   ]
  },
  {
   "cell_type": "markdown",
   "id": "78500e9a-e691-4f6b-a0cf-a00e5f04a71e",
   "metadata": {},
   "source": [
    "##### Method 2"
   ]
  },
  {
   "cell_type": "code",
   "execution_count": 46,
   "id": "c71b31e4-9dd8-460c-bf57-de57a243a7ac",
   "metadata": {},
   "outputs": [],
   "source": [
    "# lets say"
   ]
  },
  {
   "cell_type": "code",
   "execution_count": 48,
   "id": "e49228ea-407b-41fa-bc10-4410e066dfaa",
   "metadata": {},
   "outputs": [],
   "source": [
    "a = list ([0, 0])"
   ]
  },
  {
   "cell_type": "code",
   "execution_count": 49,
   "id": "5d202ae4-78e2-4a2a-ab94-b89ac06ace92",
   "metadata": {},
   "outputs": [
    {
     "data": {
      "text/plain": [
       "[0, 0]"
      ]
     },
     "execution_count": 49,
     "metadata": {},
     "output_type": "execute_result"
    }
   ],
   "source": [
    "a"
   ]
  },
  {
   "cell_type": "code",
   "execution_count": 50,
   "id": "0ca228a2-47af-48a0-9f5a-eaab502d3dcf",
   "metadata": {},
   "outputs": [],
   "source": [
    "# by using the list method .append()"
   ]
  },
  {
   "cell_type": "code",
   "execution_count": 51,
   "id": "2384de47-bfdd-400a-b490-1d4042d3cb11",
   "metadata": {},
   "outputs": [],
   "source": [
    "a.append(0)"
   ]
  },
  {
   "cell_type": "code",
   "execution_count": 52,
   "id": "7de748d5-1684-47c3-bea4-dce772bcb556",
   "metadata": {},
   "outputs": [
    {
     "data": {
      "text/plain": [
       "[0, 0, 0]"
      ]
     },
     "execution_count": 52,
     "metadata": {},
     "output_type": "execute_result"
    }
   ],
   "source": [
    "a"
   ]
  },
  {
   "cell_type": "markdown",
   "id": "db753943-4999-4d6f-8289-7134c12cb3e9",
   "metadata": {},
   "source": [
    "#### Reassign 'hello' in this nested list to say 'goodbye' instead:"
   ]
  },
  {
   "cell_type": "code",
   "execution_count": 54,
   "id": "f0e86da7-aef7-4e5f-95e4-f1d47c56f1a8",
   "metadata": {},
   "outputs": [],
   "source": [
    "list3 = [1,2,[3,4,'hello']]"
   ]
  },
  {
   "cell_type": "code",
   "execution_count": 55,
   "id": "cc743063-6757-4485-a3a1-aa7c38e0d7d7",
   "metadata": {},
   "outputs": [
    {
     "data": {
      "text/plain": [
       "[1, 2, [3, 4, 'hello']]"
      ]
     },
     "execution_count": 55,
     "metadata": {},
     "output_type": "execute_result"
    }
   ],
   "source": [
    "list3"
   ]
  },
  {
   "cell_type": "code",
   "execution_count": 59,
   "id": "60bf749e-6572-485d-acf0-5d3a517235cc",
   "metadata": {},
   "outputs": [],
   "source": [
    "list3[2][2] = 'goodbye'"
   ]
  },
  {
   "cell_type": "code",
   "execution_count": 60,
   "id": "9901548f-2795-418f-ac75-6529fde4e959",
   "metadata": {},
   "outputs": [
    {
     "data": {
      "text/plain": [
       "[1, 2, [3, 4, 'goodbye']]"
      ]
     },
     "execution_count": 60,
     "metadata": {},
     "output_type": "execute_result"
    }
   ],
   "source": [
    "list3"
   ]
  },
  {
   "cell_type": "markdown",
   "id": "5313abdf-af46-41a6-9ee6-f7ef3147858d",
   "metadata": {},
   "source": [
    "#### Sort the list below:"
   ]
  },
  {
   "cell_type": "code",
   "execution_count": 61,
   "id": "eb323ece-ce40-4c8d-828e-b74ebe698f44",
   "metadata": {},
   "outputs": [],
   "source": [
    "list4 = [5,3,4,6,1]"
   ]
  },
  {
   "cell_type": "code",
   "execution_count": 62,
   "id": "48edd728-8422-4956-a4ed-067252b5ce57",
   "metadata": {},
   "outputs": [],
   "source": [
    "list4.sort()"
   ]
  },
  {
   "cell_type": "code",
   "execution_count": 63,
   "id": "b99f5b82-aa9b-4e8b-9bc6-6f3eb96fb3a2",
   "metadata": {},
   "outputs": [
    {
     "data": {
      "text/plain": [
       "[1, 3, 4, 5, 6]"
      ]
     },
     "execution_count": 63,
     "metadata": {},
     "output_type": "execute_result"
    }
   ],
   "source": [
    "list4"
   ]
  },
  {
   "cell_type": "markdown",
   "id": "df13441c-2c3e-4023-9af7-b4eaabb95db4",
   "metadata": {},
   "source": [
    "#### Given this nested list, use indexing to grab the word \"hello\""
   ]
  },
  {
   "cell_type": "code",
   "execution_count": 65,
   "id": "9be17419-e806-4b1f-8fdf-54d9898ff122",
   "metadata": {},
   "outputs": [],
   "source": [
    "lst = [1,2,[3,4],[5,[12]00,200,['hello']],23,11],1,7]"
   ]
  },
  {
   "cell_type": "code",
   "execution_count": 69,
   "id": "2dd530d6-0951-4bdc-8184-2113fbf06f36",
   "metadata": {},
   "outputs": [
    {
     "data": {
      "text/plain": [
       "['hello']"
      ]
     },
     "execution_count": 69,
     "metadata": {},
     "output_type": "execute_result"
    }
   ],
   "source": [
    "lst[3][1][2]"
   ]
  },
  {
   "cell_type": "markdown",
   "id": "ea9c6e5e-3809-408d-a500-fdf5b554a554",
   "metadata": {},
   "source": [
    "# Dictionaries"
   ]
  },
  {
   "cell_type": "markdown",
   "id": "7e8509ac-a0cf-47f4-a66a-7791b6c10338",
   "metadata": {},
   "source": [
    "#### Using keys and indexing, grab the 'hello' from the following dictionaries:"
   ]
  },
  {
   "cell_type": "code",
   "execution_count": 72,
   "id": "3dd80a37-473c-4ea2-b5b4-9e48f9e78301",
   "metadata": {},
   "outputs": [],
   "source": [
    "d = {'simple_key':'hello'}"
   ]
  },
  {
   "cell_type": "code",
   "execution_count": 74,
   "id": "499a78fb-ba52-448c-b711-2a33aef49548",
   "metadata": {},
   "outputs": [
    {
     "data": {
      "text/plain": [
       "'hello'"
      ]
     },
     "execution_count": 74,
     "metadata": {},
     "output_type": "execute_result"
    }
   ],
   "source": [
    "d['simple_key']"
   ]
  },
  {
   "cell_type": "code",
   "execution_count": 75,
   "id": "cc1aeeb8-fa84-4d38-ba50-ef6761c15ed7",
   "metadata": {},
   "outputs": [],
   "source": [
    "d = {'k1':{'k2':'hello'}}\n",
    "# Grab 'hello'"
   ]
  },
  {
   "cell_type": "code",
   "execution_count": 79,
   "id": "aeaa94bb-784c-44a7-addd-cd24de24515e",
   "metadata": {},
   "outputs": [
    {
     "data": {
      "text/plain": [
       "{'k2': 'hello'}"
      ]
     },
     "execution_count": 79,
     "metadata": {},
     "output_type": "execute_result"
    }
   ],
   "source": [
    "d['k1']"
   ]
  },
  {
   "cell_type": "code",
   "execution_count": 82,
   "id": "61d97fbf-60cb-4b11-9387-25aeb9a38352",
   "metadata": {},
   "outputs": [
    {
     "data": {
      "text/plain": [
       "'hello'"
      ]
     },
     "execution_count": 82,
     "metadata": {},
     "output_type": "execute_result"
    }
   ],
   "source": [
    "d['k1']['k2']"
   ]
  },
  {
   "cell_type": "code",
   "execution_count": 83,
   "id": "f78f3d9e-14c8-4a9e-b4fb-4460b95837ca",
   "metadata": {},
   "outputs": [],
   "source": [
    "# Getting a little tricker\n",
    "d = {'k1':[{'nest_key':['this is deep',['hello']]}]}\n",
    "\n",
    "#Grab hello"
   ]
  },
  {
   "cell_type": "code",
   "execution_count": 91,
   "id": "21835989-be9b-42a1-bea3-44aba48b4fd1",
   "metadata": {},
   "outputs": [
    {
     "data": {
      "text/plain": [
       "['hello']"
      ]
     },
     "execution_count": 91,
     "metadata": {},
     "output_type": "execute_result"
    }
   ],
   "source": [
    "d['k1'][0]['nest_key'][1]"
   ]
  },
  {
   "cell_type": "code",
   "execution_count": 93,
   "id": "274a2b52-2d15-452c-b9d7-9ced6778dd92",
   "metadata": {},
   "outputs": [],
   "source": [
    "d = {'k1':[1,2,{'k2':['this is tricky',{'tough':[1,2,['hello']]}]}]}"
   ]
  },
  {
   "cell_type": "code",
   "execution_count": 100,
   "id": "cb928c49-76e7-453c-af1b-3c772e9c855d",
   "metadata": {},
   "outputs": [
    {
     "data": {
      "text/plain": [
       "['hello']"
      ]
     },
     "execution_count": 100,
     "metadata": {},
     "output_type": "execute_result"
    }
   ],
   "source": [
    "d['k1'][2]['k2'][1]['tough'][2]"
   ]
  },
  {
   "cell_type": "markdown",
   "id": "39367bb6-9b00-46eb-ba71-298de24396b9",
   "metadata": {},
   "source": [
    "#### Can you sort a Dictionary? Why or why not\n",
    "Dictionaries can not be sorted because they are unordered"
   ]
  },
  {
   "cell_type": "markdown",
   "id": "cc3879e0-61ac-4c8e-bded-5098e6631770",
   "metadata": {},
   "source": [
    "# Tuples"
   ]
  },
  {
   "cell_type": "markdown",
   "id": "4fcf2566-d669-44cb-ad3e-059e02138a5d",
   "metadata": {},
   "source": [
    "#### What is the major difference between tuples and lists?\n",
    "The difference is while Lists are mutable (can be modified), Tuples are immutable ( can not be modified).\n"
   ]
  },
  {
   "cell_type": "markdown",
   "id": "52ba7028-0757-4aa3-a864-ee30d16c5b64",
   "metadata": {},
   "source": [
    "#### How do you create a tuple?\n",
    "A tuple is created when a sequence of comma separated values are enclosed in a parenthesis."
   ]
  },
  {
   "cell_type": "markdown",
   "id": "bb39183d-1922-492f-9d78-3ff0a4c762e5",
   "metadata": {},
   "source": [
    "# Sets"
   ]
  },
  {
   "cell_type": "markdown",
   "id": "35cf8f34-641b-4a87-bc54-2beb2521a1c2",
   "metadata": {},
   "source": [
    "#### What is unique about a set?\n",
    "Sets unlike Tuples and Lists automatically eliminate duplicate values, they store only distinct elements"
   ]
  },
  {
   "cell_type": "code",
   "execution_count": 101,
   "id": "a38a874f-e170-42ee-9c18-535580850f28",
   "metadata": {},
   "outputs": [],
   "source": [
    "# Use a set to find the unique values of the list below\n",
    "list5 = [1,2,2,33,4,4,11,22,3,3,2]"
   ]
  },
  {
   "cell_type": "code",
   "execution_count": 102,
   "id": "b630cdd9-ce05-44ec-9adb-c9b61598d53b",
   "metadata": {},
   "outputs": [
    {
     "data": {
      "text/plain": [
       "{1, 2, 3, 4, 11, 22, 33}"
      ]
     },
     "execution_count": 102,
     "metadata": {},
     "output_type": "execute_result"
    }
   ],
   "source": [
    "set(list5)"
   ]
  },
  {
   "cell_type": "markdown",
   "id": "04b66ac4-5d8d-4ae1-9de5-4a08da620e66",
   "metadata": {},
   "source": [
    "# Booleans"
   ]
  },
  {
   "cell_type": "code",
   "execution_count": 104,
   "id": "99ba5ef1-70e4-4cf8-a4d0-c4ec52d9e90e",
   "metadata": {},
   "outputs": [],
   "source": [
    "# What will be the resulting Boolean of the following pieces of code (answer fist then check by typing it in!)"
   ]
  },
  {
   "cell_type": "code",
   "execution_count": 106,
   "id": "b62ba17b-f531-4747-92bb-33ed5656daaf",
   "metadata": {},
   "outputs": [
    {
     "data": {
      "text/plain": [
       "False"
      ]
     },
     "execution_count": 106,
     "metadata": {},
     "output_type": "execute_result"
    }
   ],
   "source": [
    "# Answer before running cell\n",
    "2 > 3"
   ]
  },
  {
   "cell_type": "code",
   "execution_count": 107,
   "id": "22574024-7cd2-407a-930e-a77e5647f0de",
   "metadata": {},
   "outputs": [
    {
     "data": {
      "text/plain": [
       "False"
      ]
     },
     "execution_count": 107,
     "metadata": {},
     "output_type": "execute_result"
    }
   ],
   "source": [
    "# Answer before running cell\n",
    "3 <= 2"
   ]
  },
  {
   "cell_type": "code",
   "execution_count": 108,
   "id": "6d59f8e8-3d4d-4aab-9df9-a5acf1bfeaaf",
   "metadata": {},
   "outputs": [
    {
     "data": {
      "text/plain": [
       "False"
      ]
     },
     "execution_count": 108,
     "metadata": {},
     "output_type": "execute_result"
    }
   ],
   "source": [
    "# Answer before running cell\n",
    "3 == 2.0"
   ]
  },
  {
   "cell_type": "code",
   "execution_count": 109,
   "id": "710eb41e-4532-4039-8860-18b614e24f01",
   "metadata": {},
   "outputs": [
    {
     "data": {
      "text/plain": [
       "True"
      ]
     },
     "execution_count": 109,
     "metadata": {},
     "output_type": "execute_result"
    }
   ],
   "source": [
    "# Answer before running cell\n",
    "3.0 == 3"
   ]
  },
  {
   "cell_type": "code",
   "execution_count": 110,
   "id": "ad78eee4-ed48-4be7-b5ed-e3f08c1c8df3",
   "metadata": {},
   "outputs": [
    {
     "data": {
      "text/plain": [
       "False"
      ]
     },
     "execution_count": 110,
     "metadata": {},
     "output_type": "execute_result"
    }
   ],
   "source": [
    "# Answer before running cell\n",
    "4**0.5 != 2"
   ]
  },
  {
   "cell_type": "code",
   "execution_count": 111,
   "id": "566c064f-20da-4159-b39c-7d0c29318a38",
   "metadata": {},
   "outputs": [
    {
     "data": {
      "text/plain": [
       "False"
      ]
     },
     "execution_count": 111,
     "metadata": {},
     "output_type": "execute_result"
    }
   ],
   "source": [
    "# two nested lists\n",
    "l_one = [1,2,[3,4]]\n",
    "l_two = [1,2,{'k1':4}]\n",
    "\n",
    "# True or False?\n",
    "l_one[2][0] >= l_two[2]['k1']"
   ]
  },
  {
   "cell_type": "code",
   "execution_count": null,
   "id": "8605a51f-dc37-4849-8560-34bc0919407d",
   "metadata": {},
   "outputs": [],
   "source": []
  }
 ],
 "metadata": {
  "kernelspec": {
   "display_name": "Python 3 (ipykernel)",
   "language": "python",
   "name": "python3"
  },
  "language_info": {
   "codemirror_mode": {
    "name": "ipython",
    "version": 3
   },
   "file_extension": ".py",
   "mimetype": "text/x-python",
   "name": "python",
   "nbconvert_exporter": "python",
   "pygments_lexer": "ipython3",
   "version": "3.12.7"
  }
 },
 "nbformat": 4,
 "nbformat_minor": 5
}
