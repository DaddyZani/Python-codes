{
 "cells": [
  {
   "cell_type": "markdown",
   "id": "87d0e019-e19c-40c6-a7dd-0624c19aa053",
   "metadata": {},
   "source": [
    "# Dynamic Typing\n",
    "Python uses dynamic typing, meaning you can reassign variables to different data types, it differs from other languages that are statically typed."
   ]
  },
  {
   "cell_type": "code",
   "execution_count": 1,
   "id": "b4c59ee1-ae81-4d38-88e3-47e2dc8e3c61",
   "metadata": {},
   "outputs": [],
   "source": [
    "my_dogs = 2"
   ]
  },
  {
   "cell_type": "code",
   "execution_count": 2,
   "id": "3ef15a8b-bbf5-430e-9836-520738ed76e0",
   "metadata": {},
   "outputs": [
    {
     "data": {
      "text/plain": [
       "2"
      ]
     },
     "execution_count": 2,
     "metadata": {},
     "output_type": "execute_result"
    }
   ],
   "source": [
    "my_dogs"
   ]
  },
  {
   "cell_type": "code",
   "execution_count": 31,
   "id": "3b48c796-de25-4056-af4e-15819c3e149a",
   "metadata": {},
   "outputs": [],
   "source": [
    "# reassign\n",
    "my_dogs = [\"Obinna\", \"Chidi\"]"
   ]
  },
  {
   "cell_type": "code",
   "execution_count": 32,
   "id": "9086f4fc-c88c-497b-bd40-702e67436561",
   "metadata": {},
   "outputs": [
    {
     "data": {
      "text/plain": [
       "['Obinna', 'Chidi']"
      ]
     },
     "execution_count": 32,
     "metadata": {},
     "output_type": "execute_result"
    }
   ],
   "source": [
    "my_dogs"
   ]
  },
  {
   "cell_type": "code",
   "execution_count": 33,
   "id": "c7f04e4f-c8e5-4ac7-af15-bff6446c2fbf",
   "metadata": {},
   "outputs": [
    {
     "data": {
      "text/plain": [
       "list"
      ]
     },
     "execution_count": 33,
     "metadata": {},
     "output_type": "execute_result"
    }
   ],
   "source": [
    "type(my_dogs)"
   ]
  },
  {
   "cell_type": "markdown",
   "id": "217f74a9-fcc1-4a46-a52e-6f0d970ec21e",
   "metadata": {},
   "source": [
    "# Assign Variable\n",
    "Variable assignment follows name = object, where a single equals sign = is an assignment operator"
   ]
  },
  {
   "cell_type": "code",
   "execution_count": 7,
   "id": "296fbee9-24f2-40c1-9872-351327663c99",
   "metadata": {},
   "outputs": [],
   "source": [
    "a = 5"
   ]
  },
  {
   "cell_type": "code",
   "execution_count": 8,
   "id": "7219dee6-82f3-43d7-aebd-089290245323",
   "metadata": {},
   "outputs": [
    {
     "data": {
      "text/plain": [
       "5"
      ]
     },
     "execution_count": 8,
     "metadata": {},
     "output_type": "execute_result"
    }
   ],
   "source": [
    "a"
   ]
  },
  {
   "cell_type": "code",
   "execution_count": 9,
   "id": "3dc2df40-0dba-4848-9700-0c1794b49ffe",
   "metadata": {},
   "outputs": [],
   "source": [
    "a = a + 5"
   ]
  },
  {
   "cell_type": "code",
   "execution_count": 10,
   "id": "9948c855-2a9b-42f2-bca9-8cf9132528b7",
   "metadata": {},
   "outputs": [
    {
     "data": {
      "text/plain": [
       "10"
      ]
     },
     "execution_count": 10,
     "metadata": {},
     "output_type": "execute_result"
    }
   ],
   "source": [
    "a"
   ]
  },
  {
   "cell_type": "code",
   "execution_count": 11,
   "id": "fc17b074-e764-45e6-a3ff-19ac528770ff",
   "metadata": {},
   "outputs": [
    {
     "data": {
      "text/plain": [
       "int"
      ]
     },
     "execution_count": 11,
     "metadata": {},
     "output_type": "execute_result"
    }
   ],
   "source": [
    "type(a)"
   ]
  },
  {
   "cell_type": "code",
   "execution_count": 12,
   "id": "fa149bd6-8bf4-46c1-a175-908459ef926e",
   "metadata": {},
   "outputs": [],
   "source": [
    "# there are shortcuts to this. Python lets you add, substract, multiply and divide numbers with reassignmnet using +=, -=, *= and /="
   ]
  },
  {
   "cell_type": "code",
   "execution_count": 13,
   "id": "a6c14eec-6a8a-4f56-8ea5-e0485c89d861",
   "metadata": {},
   "outputs": [
    {
     "data": {
      "text/plain": [
       "10"
      ]
     },
     "execution_count": 13,
     "metadata": {},
     "output_type": "execute_result"
    }
   ],
   "source": [
    "a"
   ]
  },
  {
   "cell_type": "code",
   "execution_count": 14,
   "id": "d91a522c-a5a6-4941-8520-a599ea61fa5f",
   "metadata": {},
   "outputs": [],
   "source": [
    "a += 10 # a = a + 10"
   ]
  },
  {
   "cell_type": "code",
   "execution_count": 15,
   "id": "ab089234-7b31-4584-9689-0aef015b527d",
   "metadata": {},
   "outputs": [
    {
     "data": {
      "text/plain": [
       "20"
      ]
     },
     "execution_count": 15,
     "metadata": {},
     "output_type": "execute_result"
    }
   ],
   "source": [
    "a"
   ]
  },
  {
   "cell_type": "code",
   "execution_count": 16,
   "id": "1eb2b41b-fe8c-43b9-bf27-4ed81e254d21",
   "metadata": {},
   "outputs": [],
   "source": [
    "b = 25"
   ]
  },
  {
   "cell_type": "code",
   "execution_count": 17,
   "id": "dc67a2e3-b1a5-4fc9-b33d-8dead55ff130",
   "metadata": {},
   "outputs": [
    {
     "data": {
      "text/plain": [
       "25"
      ]
     },
     "execution_count": 17,
     "metadata": {},
     "output_type": "execute_result"
    }
   ],
   "source": [
    "b"
   ]
  },
  {
   "cell_type": "code",
   "execution_count": 18,
   "id": "e05d2076-ba44-4599-a744-6535c372681c",
   "metadata": {},
   "outputs": [],
   "source": [
    "b += 25 # b = b + 25"
   ]
  },
  {
   "cell_type": "code",
   "execution_count": 19,
   "id": "036045c7-cd75-4079-b71b-ea4affa32d1c",
   "metadata": {},
   "outputs": [
    {
     "data": {
      "text/plain": [
       "50"
      ]
     },
     "execution_count": 19,
     "metadata": {},
     "output_type": "execute_result"
    }
   ],
   "source": [
    "b"
   ]
  },
  {
   "cell_type": "markdown",
   "id": "61f42b2b-219b-4f5c-9cac-221c65ca9a83",
   "metadata": {},
   "source": [
    "# Determining variable type with type()\n",
    "You can check what object is assigned to a variable using Python built-in type() function. Common data types include:                                    \n",
    "•\tInt (for integer)\n",
    "•\tFloat\n",
    "•\tStr (for string)\n",
    "•\ttuple \n",
    "•\tdict (for dictionary)\n",
    "•\tset\n",
    "•\tbool (for Boolean True/False)\n",
    "\n"
   ]
  },
  {
   "cell_type": "code",
   "execution_count": 20,
   "id": "7b74aa04-6a23-4c03-9512-030a7834a7d5",
   "metadata": {},
   "outputs": [],
   "source": [
    "gpa = 5.0"
   ]
  },
  {
   "cell_type": "code",
   "execution_count": 21,
   "id": "098e17cd-d0d3-476f-83d6-5d447f165889",
   "metadata": {},
   "outputs": [
    {
     "data": {
      "text/plain": [
       "float"
      ]
     },
     "execution_count": 21,
     "metadata": {},
     "output_type": "execute_result"
    }
   ],
   "source": [
    "type(gpa)"
   ]
  },
  {
   "cell_type": "code",
   "execution_count": 22,
   "id": "cfaa38b8-5758-4d5c-8fa8-ea9b5b9d1255",
   "metadata": {},
   "outputs": [],
   "source": [
    "salary = 3000"
   ]
  },
  {
   "cell_type": "code",
   "execution_count": 23,
   "id": "f9a71ba0-d9d7-4fc7-8c27-588075a796b7",
   "metadata": {},
   "outputs": [
    {
     "data": {
      "text/plain": [
       "int"
      ]
     },
     "execution_count": 23,
     "metadata": {},
     "output_type": "execute_result"
    }
   ],
   "source": [
    "type(salary)"
   ]
  },
  {
   "cell_type": "code",
   "execution_count": 36,
   "id": "11bff5b5-55cb-4c40-9a2d-b8e4b2bdd869",
   "metadata": {},
   "outputs": [],
   "source": [
    "my_kids = 0.56"
   ]
  },
  {
   "cell_type": "code",
   "execution_count": 37,
   "id": "ae457b46-177c-4127-bc3f-90ca84e20938",
   "metadata": {},
   "outputs": [
    {
     "data": {
      "text/plain": [
       "0.56"
      ]
     },
     "execution_count": 37,
     "metadata": {},
     "output_type": "execute_result"
    }
   ],
   "source": [
    "my_kids"
   ]
  },
  {
   "cell_type": "code",
   "execution_count": 38,
   "id": "ad30908e-07ef-48ae-91a5-ce2afb1649a3",
   "metadata": {},
   "outputs": [
    {
     "data": {
      "text/plain": [
       "float"
      ]
     },
     "execution_count": 38,
     "metadata": {},
     "output_type": "execute_result"
    }
   ],
   "source": [
    "type(my_kids)"
   ]
  }
 ],
 "metadata": {
  "kernelspec": {
   "display_name": "Python 3 (ipykernel)",
   "language": "python",
   "name": "python3"
  },
  "language_info": {
   "codemirror_mode": {
    "name": "ipython",
    "version": 3
   },
   "file_extension": ".py",
   "mimetype": "text/x-python",
   "name": "python",
   "nbconvert_exporter": "python",
   "pygments_lexer": "ipython3",
   "version": "3.12.7"
  }
 },
 "nbformat": 4,
 "nbformat_minor": 5
}
