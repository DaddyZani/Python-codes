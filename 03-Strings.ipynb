{
 "cells": [
  {
   "cell_type": "markdown",
   "id": "fedb525d-897a-4205-a187-93991dd12c65",
   "metadata": {},
   "source": [
    "# Strings"
   ]
  },
  {
   "cell_type": "code",
   "execution_count": 1,
   "id": "d2f8b4db-b311-41e4-9d3d-20887516bd7d",
   "metadata": {},
   "outputs": [
    {
     "data": {
      "text/plain": [
       "'hello'"
      ]
     },
     "execution_count": 1,
     "metadata": {},
     "output_type": "execute_result"
    }
   ],
   "source": [
    "'hello'"
   ]
  },
  {
   "cell_type": "code",
   "execution_count": 2,
   "id": "e9cacc21-ceca-41c4-aeb3-bc4ce6c8a138",
   "metadata": {},
   "outputs": [
    {
     "data": {
      "text/plain": [
       "'hello'"
      ]
     },
     "execution_count": 2,
     "metadata": {},
     "output_type": "execute_result"
    }
   ],
   "source": [
    "\"hello\""
   ]
  },
  {
   "cell_type": "code",
   "execution_count": 4,
   "id": "f9cfecaf-1d27-4097-8595-b5ad490dc863",
   "metadata": {},
   "outputs": [
    {
     "data": {
      "text/plain": [
       "'This is also a string'"
      ]
     },
     "execution_count": 4,
     "metadata": {},
     "output_type": "execute_result"
    }
   ],
   "source": [
    "\"This is also a string\""
   ]
  },
  {
   "cell_type": "code",
   "execution_count": 5,
   "id": "aceb082f-58f7-4927-9603-ee09221db3fb",
   "metadata": {},
   "outputs": [
    {
     "data": {
      "text/plain": [
       "'This is a double quote string'"
      ]
     },
     "execution_count": 5,
     "metadata": {},
     "output_type": "execute_result"
    }
   ],
   "source": [
    "\"This is a double quote string\""
   ]
  },
  {
   "cell_type": "code",
   "execution_count": 9,
   "id": "47ca0b54-d333-4a06-a0ad-bdee25814425",
   "metadata": {},
   "outputs": [],
   "source": [
    "# you don't use a single quote in between or inside a single quote. However, you can use the single quote inside or inbetween the double quote e.g\n"
   ]
  },
  {
   "cell_type": "code",
   "execution_count": 8,
   "id": "821ff06a-2662-4fef-8067-f28a2d40659d",
   "metadata": {},
   "outputs": [
    {
     "ename": "SyntaxError",
     "evalue": "unterminated string literal (detected at line 1) (2953906697.py, line 1)",
     "output_type": "error",
     "traceback": [
      "\u001b[1;36m  Cell \u001b[1;32mIn[8], line 1\u001b[1;36m\u001b[0m\n\u001b[1;33m    'I'm sitting outside the house\"\u001b[0m\n\u001b[1;37m                                  ^\u001b[0m\n\u001b[1;31mSyntaxError\u001b[0m\u001b[1;31m:\u001b[0m unterminated string literal (detected at line 1)\n"
     ]
    }
   ],
   "source": [
    "'I'm sitting outside the house\""
   ]
  },
  {
   "cell_type": "code",
   "execution_count": 10,
   "id": "f5640501-a5ad-42c0-a4eb-54dd4feb46b4",
   "metadata": {},
   "outputs": [
    {
     "data": {
      "text/plain": [
       "\"Now I'm using the single quote inside the double quote\""
      ]
     },
     "execution_count": 10,
     "metadata": {},
     "output_type": "execute_result"
    }
   ],
   "source": [
    "\"Now I'm using the single quote inside the double quote\""
   ]
  },
  {
   "cell_type": "markdown",
   "id": "be3a6e11-f380-49a6-867b-7adf91dd292f",
   "metadata": {},
   "source": [
    "## Print a String"
   ]
  },
  {
   "cell_type": "code",
   "execution_count": 11,
   "id": "3af542da-cb94-4c58-beae-18f96e6a060b",
   "metadata": {},
   "outputs": [
    {
     "data": {
      "text/plain": [
       "'hello world'"
      ]
     },
     "execution_count": 11,
     "metadata": {},
     "output_type": "execute_result"
    }
   ],
   "source": [
    "\"hello world\""
   ]
  },
  {
   "cell_type": "code",
   "execution_count": 12,
   "id": "9484f621-1b0e-4b0f-9bf1-ffc8d05fffee",
   "metadata": {},
   "outputs": [
    {
     "data": {
      "text/plain": [
       "'hello world 2'"
      ]
     },
     "execution_count": 12,
     "metadata": {},
     "output_type": "execute_result"
    }
   ],
   "source": [
    "\"hello world 1\"\n",
    "\"hello world 2\""
   ]
  },
  {
   "cell_type": "code",
   "execution_count": 13,
   "id": "d6ec513e-1d55-408b-8c37-d77471f7b492",
   "metadata": {},
   "outputs": [
    {
     "name": "stdout",
     "output_type": "stream",
     "text": [
      "hello world 1\n"
     ]
    }
   ],
   "source": [
    "print (\"hello world 1\")"
   ]
  },
  {
   "cell_type": "code",
   "execution_count": 14,
   "id": "00808c98-f02f-4aff-bf32-a85e1c16fcad",
   "metadata": {},
   "outputs": [
    {
     "name": "stdout",
     "output_type": "stream",
     "text": [
      "hello world 1\n",
      "hello world 2\n",
      "use \n",
      " to print a new line\n",
      "\n",
      "\n",
      "see what i mean\n"
     ]
    }
   ],
   "source": [
    "print(\"hello world 1\")\n",
    "print(\"hello world 2\")\n",
    "print(\"use \\n to print a new line\")\n",
    "print(\"\\n\")\n",
    "print(\"see what i mean\")"
   ]
  },
  {
   "cell_type": "code",
   "execution_count": 15,
   "id": "485347ca-7e0d-4ab4-a477-d5e36dddc5c7",
   "metadata": {},
   "outputs": [],
   "source": [
    "#len is a special function in Python used to find how the total number of strings you have in a particular sentence e.g"
   ]
  },
  {
   "cell_type": "code",
   "execution_count": 16,
   "id": "242e5a4f-4062-4c8b-805b-f34ad087978c",
   "metadata": {},
   "outputs": [
    {
     "data": {
      "text/plain": [
       "11"
      ]
     },
     "execution_count": 16,
     "metadata": {},
     "output_type": "execute_result"
    }
   ],
   "source": [
    "len(\"hello world\")"
   ]
  },
  {
   "cell_type": "code",
   "execution_count": 17,
   "id": "bf53d7ad-e227-449a-8a3b-d8a24e69457c",
   "metadata": {},
   "outputs": [],
   "source": [
    "#you can assign a particular String to a variable e.g"
   ]
  },
  {
   "cell_type": "code",
   "execution_count": 18,
   "id": "08d62e48-13d7-4325-a34b-de104d1f825f",
   "metadata": {},
   "outputs": [],
   "source": [
    "s = \"hello world\""
   ]
  },
  {
   "cell_type": "code",
   "execution_count": 19,
   "id": "2e7abb54-4759-4718-a97b-b45d9e7bf820",
   "metadata": {},
   "outputs": [
    {
     "data": {
      "text/plain": [
       "'hello world'"
      ]
     },
     "execution_count": 19,
     "metadata": {},
     "output_type": "execute_result"
    }
   ],
   "source": [
    "s"
   ]
  },
  {
   "cell_type": "code",
   "execution_count": 20,
   "id": "f3c43d3f-6cf5-4e3a-8b82-630eff797f09",
   "metadata": {},
   "outputs": [],
   "source": [
    "#you can Print a variable name without adding a String if the variable has already been defined e.g s = \"hello world\" , s is already defined"
   ]
  },
  {
   "cell_type": "code",
   "execution_count": 21,
   "id": "8e9f5118-e795-4151-bbb4-7536ccbfd1d4",
   "metadata": {},
   "outputs": [
    {
     "name": "stdout",
     "output_type": "stream",
     "text": [
      "hello world\n"
     ]
    }
   ],
   "source": [
    "print(s)"
   ]
  },
  {
   "cell_type": "code",
   "execution_count": 22,
   "id": "f6566e78-805f-4789-b3a9-d705fe218c11",
   "metadata": {},
   "outputs": [],
   "source": [
    "#let's look at how we can index\n",
    "#[0] is goin to print out the first character 'H'"
   ]
  },
  {
   "cell_type": "code",
   "execution_count": 24,
   "id": "59bd0538-d099-4684-b9c5-c582d7efb277",
   "metadata": {},
   "outputs": [
    {
     "data": {
      "text/plain": [
       "'h'"
      ]
     },
     "execution_count": 24,
     "metadata": {},
     "output_type": "execute_result"
    }
   ],
   "source": [
    "s[0]"
   ]
  },
  {
   "cell_type": "code",
   "execution_count": 25,
   "id": "9a485fa9-4da3-42c5-a104-001c605cd946",
   "metadata": {},
   "outputs": [
    {
     "data": {
      "text/plain": [
       "'e'"
      ]
     },
     "execution_count": 25,
     "metadata": {},
     "output_type": "execute_result"
    }
   ],
   "source": [
    "s[1]"
   ]
  },
  {
   "cell_type": "code",
   "execution_count": 26,
   "id": "e5619c4d-c3b1-412f-8b24-bd60d62cc44a",
   "metadata": {},
   "outputs": [
    {
     "data": {
      "text/plain": [
       "'l'"
      ]
     },
     "execution_count": 26,
     "metadata": {},
     "output_type": "execute_result"
    }
   ],
   "source": [
    "s[2]"
   ]
  },
  {
   "cell_type": "code",
   "execution_count": 31,
   "id": "589647bc-af1e-4a1d-9974-410e79af3f02",
   "metadata": {},
   "outputs": [],
   "source": [
    "#you can usw the semi colon : to perform slicing, it grabs everything up to the designated point you want to print\n",
    "#if you want to slice forward, the semi colon comes before the number while if you want to slice backward it comes before.eg\n"
   ]
  },
  {
   "cell_type": "code",
   "execution_count": 28,
   "id": "16b645e8-f526-4710-a917-898f14748205",
   "metadata": {},
   "outputs": [
    {
     "data": {
      "text/plain": [
       "'ello world'"
      ]
     },
     "execution_count": 28,
     "metadata": {},
     "output_type": "execute_result"
    }
   ],
   "source": [
    "s[1:]"
   ]
  },
  {
   "cell_type": "code",
   "execution_count": 32,
   "id": "1bef7b78-0488-406f-967e-26ba38dd70b3",
   "metadata": {},
   "outputs": [
    {
     "data": {
      "text/plain": [
       "'hel'"
      ]
     },
     "execution_count": 32,
     "metadata": {},
     "output_type": "execute_result"
    }
   ],
   "source": [
    "s[:3]"
   ]
  },
  {
   "cell_type": "code",
   "execution_count": 33,
   "id": "8678478d-07d1-41a7-b059-15438e35d628",
   "metadata": {},
   "outputs": [],
   "source": [
    "#to print everything..."
   ]
  },
  {
   "cell_type": "code",
   "execution_count": 34,
   "id": "1217b825-28c1-4848-ba58-4ff8ece45c51",
   "metadata": {},
   "outputs": [
    {
     "data": {
      "text/plain": [
       "'hello world'"
      ]
     },
     "execution_count": 34,
     "metadata": {},
     "output_type": "execute_result"
    }
   ],
   "source": [
    "s[:]"
   ]
  },
  {
   "cell_type": "code",
   "execution_count": 35,
   "id": "9efea06e-ab03-496e-9662-f43b6553b539",
   "metadata": {},
   "outputs": [],
   "source": [
    "#to grab the sixth letter..."
   ]
  },
  {
   "cell_type": "code",
   "execution_count": 36,
   "id": "fa05800d-87f4-441c-b2a8-03f3a71039c6",
   "metadata": {},
   "outputs": [
    {
     "data": {
      "text/plain": [
       "'w'"
      ]
     },
     "execution_count": 36,
     "metadata": {},
     "output_type": "execute_result"
    }
   ],
   "source": [
    "s[6]"
   ]
  },
  {
   "cell_type": "code",
   "execution_count": 37,
   "id": "c62353a8-0d13-404d-b12d-6261ff39e451",
   "metadata": {},
   "outputs": [],
   "source": [
    "# to print the space which is the fifth character..."
   ]
  },
  {
   "cell_type": "code",
   "execution_count": 38,
   "id": "16bf7972-7fe3-4191-ac39-6073291e3d97",
   "metadata": {},
   "outputs": [
    {
     "data": {
      "text/plain": [
       "' '"
      ]
     },
     "execution_count": 38,
     "metadata": {},
     "output_type": "execute_result"
    }
   ],
   "source": [
    "s[5]"
   ]
  },
  {
   "cell_type": "code",
   "execution_count": 39,
   "id": "5244f328-dc1b-4a56-ba07-61e5119b3921",
   "metadata": {},
   "outputs": [],
   "source": [
    "#to grab the last character you can also use the negative sign -1"
   ]
  },
  {
   "cell_type": "code",
   "execution_count": 40,
   "id": "7b64f69a-96cc-470b-a915-d8ea45b35022",
   "metadata": {},
   "outputs": [
    {
     "data": {
      "text/plain": [
       "'d'"
      ]
     },
     "execution_count": 40,
     "metadata": {},
     "output_type": "execute_result"
    }
   ],
   "source": [
    "s[-1]"
   ]
  },
  {
   "cell_type": "code",
   "execution_count": 41,
   "id": "7b2589dc-2b6a-4fe6-b095-0ee5bdc1bda6",
   "metadata": {},
   "outputs": [
    {
     "data": {
      "text/plain": [
       "'l'"
      ]
     },
     "execution_count": 41,
     "metadata": {},
     "output_type": "execute_result"
    }
   ],
   "source": [
    "s[-2]"
   ]
  },
  {
   "cell_type": "code",
   "execution_count": 42,
   "id": "5a5bc101-f8d7-4dde-86df-4f7e24397a21",
   "metadata": {},
   "outputs": [],
   "source": [
    "#you can grab everything up to a certain character e.g"
   ]
  },
  {
   "cell_type": "code",
   "execution_count": 43,
   "id": "90d0eeff-9ac0-494a-a318-2ecc1725b166",
   "metadata": {},
   "outputs": [
    {
     "data": {
      "text/plain": [
       "'hello worl'"
      ]
     },
     "execution_count": 43,
     "metadata": {},
     "output_type": "execute_result"
    }
   ],
   "source": [
    "s[:-1]"
   ]
  },
  {
   "cell_type": "markdown",
   "id": "ad57ddf6-d6fe-4854-85fe-ecf4987ed378",
   "metadata": {},
   "source": [
    "## jump index"
   ]
  },
  {
   "cell_type": "code",
   "execution_count": 44,
   "id": "413845d2-26ed-4ff0-a188-6ff9071d8bcf",
   "metadata": {},
   "outputs": [],
   "source": [
    "#to run a jump index, s[::]"
   ]
  },
  {
   "cell_type": "code",
   "execution_count": 45,
   "id": "e6113910-7350-4422-b4e4-6c50305d2fbb",
   "metadata": {},
   "outputs": [
    {
     "data": {
      "text/plain": [
       "'hello world'"
      ]
     },
     "execution_count": 45,
     "metadata": {},
     "output_type": "execute_result"
    }
   ],
   "source": [
    "s[::1]"
   ]
  },
  {
   "cell_type": "code",
   "execution_count": 46,
   "id": "d435707a-059b-4844-99be-cbca4a220bd6",
   "metadata": {},
   "outputs": [
    {
     "data": {
      "text/plain": [
       "'hlowrd'"
      ]
     },
     "execution_count": 46,
     "metadata": {},
     "output_type": "execute_result"
    }
   ],
   "source": [
    "s[::2]"
   ]
  },
  {
   "cell_type": "code",
   "execution_count": 47,
   "id": "ed9af493-a8fa-4d64-a66c-1ffbb9928721",
   "metadata": {},
   "outputs": [],
   "source": [
    "#to print the jump index backward..."
   ]
  },
  {
   "cell_type": "code",
   "execution_count": 49,
   "id": "a4b7a8d9-e08d-4020-bbde-37b3f9d4dea0",
   "metadata": {},
   "outputs": [
    {
     "data": {
      "text/plain": [
       "'dlrow olleh'"
      ]
     },
     "execution_count": 49,
     "metadata": {},
     "output_type": "execute_result"
    }
   ],
   "source": [
    "s[::-1]"
   ]
  },
  {
   "cell_type": "code",
   "execution_count": 50,
   "id": "3a51d10a-805d-49bb-b44b-84a7602a2c13",
   "metadata": {},
   "outputs": [],
   "source": [
    "#String Properties: once a string is created, it cannot be changed"
   ]
  },
  {
   "cell_type": "code",
   "execution_count": 52,
   "id": "30fc2019-ff4c-422e-abbe-41d92e6cb90e",
   "metadata": {},
   "outputs": [],
   "source": [
    "#the + sign is used to concatenate (to join) two stings together e.g"
   ]
  },
  {
   "cell_type": "code",
   "execution_count": 65,
   "id": "8adf0323-cabb-4276-acfa-fcd82b14ed25",
   "metadata": {},
   "outputs": [],
   "source": [
    "s = s + \" concatenate me!\""
   ]
  },
  {
   "cell_type": "code",
   "execution_count": 66,
   "id": "dfce1955-fb8d-40ea-b12c-84abb86b5c56",
   "metadata": {},
   "outputs": [
    {
     "name": "stdout",
     "output_type": "stream",
     "text": [
      "hello worldconcatenate me concatenate me! concatenate me! concatenate me!concatenate me!concatenate me!concatenate me! concatenate me!\n"
     ]
    }
   ],
   "source": [
    "print (s)"
   ]
  },
  {
   "cell_type": "code",
   "execution_count": 69,
   "id": "1b4c2bbd-cbb8-4176-8734-f152fe6b17f0",
   "metadata": {},
   "outputs": [],
   "source": [
    "my_name = \"DaddyZani\""
   ]
  },
  {
   "cell_type": "code",
   "execution_count": 70,
   "id": "9ea8857f-82df-4897-994c-fc38daf15de2",
   "metadata": {},
   "outputs": [
    {
     "data": {
      "text/plain": [
       "'helloDaddyZani'"
      ]
     },
     "execution_count": 70,
     "metadata": {},
     "output_type": "execute_result"
    }
   ],
   "source": [
    "\"hello\" + my_name"
   ]
  },
  {
   "cell_type": "markdown",
   "id": "44cd044b-983b-4ff9-a55e-c618aca91a22",
   "metadata": {},
   "source": [
    "## Methods"
   ]
  },
  {
   "cell_type": "code",
   "execution_count": 72,
   "id": "9caae90c-7be1-4e0f-a094-4155c79a06cb",
   "metadata": {},
   "outputs": [],
   "source": [
    "#methods are built in functions in Python that allows you to do some tasks e.g to turn the value of s to upper case..."
   ]
  },
  {
   "cell_type": "code",
   "execution_count": 73,
   "id": "f64008a1-f784-47ea-848a-1be96461e9b0",
   "metadata": {},
   "outputs": [
    {
     "data": {
      "text/plain": [
       "'HELLO WORLDCONCATENATE ME CONCATENATE ME! CONCATENATE ME! CONCATENATE ME!CONCATENATE ME!CONCATENATE ME!CONCATENATE ME! CONCATENATE ME!'"
      ]
     },
     "execution_count": 73,
     "metadata": {},
     "output_type": "execute_result"
    }
   ],
   "source": [
    "s.upper()"
   ]
  },
  {
   "cell_type": "code",
   "execution_count": 74,
   "id": "8ad34897-e7ad-46db-a5a3-08b8b11d2603",
   "metadata": {},
   "outputs": [
    {
     "data": {
      "text/plain": [
       "'hello worldconcatenate me concatenate me! concatenate me! concatenate me!concatenate me!concatenate me!concatenate me! concatenate me!'"
      ]
     },
     "execution_count": 74,
     "metadata": {},
     "output_type": "execute_result"
    }
   ],
   "source": [
    "s.lower()"
   ]
  },
  {
   "cell_type": "code",
   "execution_count": 75,
   "id": "5fec0135-2bef-45ac-94ff-32e6069f6659",
   "metadata": {},
   "outputs": [],
   "source": [
    "#to split..."
   ]
  },
  {
   "cell_type": "code",
   "execution_count": 76,
   "id": "84f35617-f23e-48e4-b1f8-bb88810a6bf0",
   "metadata": {},
   "outputs": [
    {
     "data": {
      "text/plain": [
       "['hello',\n",
       " 'worldconcatenate',\n",
       " 'me',\n",
       " 'concatenate',\n",
       " 'me!',\n",
       " 'concatenate',\n",
       " 'me!',\n",
       " 'concatenate',\n",
       " 'me!concatenate',\n",
       " 'me!concatenate',\n",
       " 'me!concatenate',\n",
       " 'me!',\n",
       " 'concatenate',\n",
       " 'me!']"
      ]
     },
     "execution_count": 76,
     "metadata": {},
     "output_type": "execute_result"
    }
   ],
   "source": [
    "s.split()"
   ]
  },
  {
   "cell_type": "code",
   "execution_count": 77,
   "id": "b9d7324b-60d3-41a2-9d59-4b09d1106ec5",
   "metadata": {},
   "outputs": [
    {
     "data": {
      "text/plain": [
       "['hello ',\n",
       " 'orldconcatenate me concatenate me! concatenate me! concatenate me!concatenate me!concatenate me!concatenate me! concatenate me!']"
      ]
     },
     "execution_count": 77,
     "metadata": {},
     "output_type": "execute_result"
    }
   ],
   "source": [
    "s.split(\"w\")"
   ]
  }
 ],
 "metadata": {
  "kernelspec": {
   "display_name": "Python 3 (ipykernel)",
   "language": "python",
   "name": "python3"
  },
  "language_info": {
   "codemirror_mode": {
    "name": "ipython",
    "version": 3
   },
   "file_extension": ".py",
   "mimetype": "text/x-python",
   "name": "python",
   "nbconvert_exporter": "python",
   "pygments_lexer": "ipython3",
   "version": "3.12.7"
  }
 },
 "nbformat": 4,
 "nbformat_minor": 5
}
