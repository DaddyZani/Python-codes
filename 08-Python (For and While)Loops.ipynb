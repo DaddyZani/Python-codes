{
 "cells": [
  {
   "cell_type": "markdown",
   "id": "8d12de4f-8842-4dba-9ba3-2280bde3ec3c",
   "metadata": {},
   "source": [
    "# For Loops\n",
    "\n",
    "for item in object:\n",
    "\n",
    "    statement to do stuff\n"
   ]
  },
  {
   "cell_type": "markdown",
   "id": "10ef6001-4041-4fa9-ab09-aa6397c05dbc",
   "metadata": {},
   "source": [
    "## Example 1"
   ]
  },
  {
   "cell_type": "code",
   "execution_count": 2,
   "id": "45180b2b-6f79-4d56-98f7-d0d8589fb77b",
   "metadata": {},
   "outputs": [],
   "source": [
    "list1 = [1, 2, 3, 4, 5, 6, 7, 8, 9, 10]"
   ]
  },
  {
   "cell_type": "code",
   "execution_count": 6,
   "id": "87d7214b-85ef-441b-8d7f-d73f02ea751d",
   "metadata": {},
   "outputs": [],
   "source": [
    "# To print out the first item"
   ]
  },
  {
   "cell_type": "code",
   "execution_count": 7,
   "id": "22ba4651-7302-4bbd-a845-b75c40ec4b52",
   "metadata": {},
   "outputs": [
    {
     "data": {
      "text/plain": [
       "1"
      ]
     },
     "execution_count": 7,
     "metadata": {},
     "output_type": "execute_result"
    }
   ],
   "source": [
    "list1[0]"
   ]
  },
  {
   "cell_type": "code",
   "execution_count": 10,
   "id": "a2bf362a-73e9-43f9-b4bd-c70dddde92da",
   "metadata": {},
   "outputs": [
    {
     "data": {
      "text/plain": [
       "2"
      ]
     },
     "execution_count": 10,
     "metadata": {},
     "output_type": "execute_result"
    }
   ],
   "source": [
    "list1[1]"
   ]
  },
  {
   "cell_type": "code",
   "execution_count": 11,
   "id": "c3fc788c-cce0-4be1-bf47-191e1950f39e",
   "metadata": {},
   "outputs": [],
   "source": [
    "# You can see that it is repeatitiv, the only changing thing here are the numbers\n",
    "# To iterate over this..."
   ]
  },
  {
   "cell_type": "code",
   "execution_count": 12,
   "id": "c608e47d-3dff-4a02-8aba-6f0efd184b89",
   "metadata": {},
   "outputs": [
    {
     "name": "stdout",
     "output_type": "stream",
     "text": [
      "1\n",
      "2\n",
      "3\n",
      "4\n",
      "5\n",
      "6\n",
      "7\n",
      "8\n",
      "9\n",
      "10\n"
     ]
    }
   ],
   "source": [
    "for num in list1:\n",
    "    print(num)"
   ]
  },
  {
   "cell_type": "markdown",
   "id": "ae2b2a68-4d55-4e51-ae6d-26f1294c8817",
   "metadata": {},
   "source": [
    "## Example 2 \n",
    "\n",
    "Print out even and odd numbers in the list"
   ]
  },
  {
   "cell_type": "code",
   "execution_count": 13,
   "id": "aeae2074-8e57-47c3-8c75-292386a44f23",
   "metadata": {},
   "outputs": [],
   "source": [
    "## To print an even number... "
   ]
  },
  {
   "cell_type": "code",
   "execution_count": 15,
   "id": "ccf77cda-16e3-46cb-8d77-38e93bc50292",
   "metadata": {},
   "outputs": [
    {
     "name": "stdout",
     "output_type": "stream",
     "text": [
      "The number 1 is an odd number \n",
      "the number 2 is an even number \n",
      "The number 3 is an odd number \n",
      "the number 4 is an even number \n",
      "The number 5 is an odd number \n",
      "the number 6 is an even number \n",
      "The number 7 is an odd number \n",
      "the number 8 is an even number \n",
      "The number 9 is an odd number \n",
      "the number 10 is an even number \n"
     ]
    }
   ],
   "source": [
    "for num in list1:\n",
    "    if num % 2 == 0:\n",
    "        print(f\"the number {num} is an even number \")\n",
    "    else:\n",
    "        print(f\"The number {num} is an odd number \")"
   ]
  },
  {
   "cell_type": "markdown",
   "id": "41fcdc52-9e53-416f-abf4-4a2630bef194",
   "metadata": {},
   "source": [
    "## Example 3\n",
    "Let's say we are asked to add all the items in the list together and display the result"
   ]
  },
  {
   "cell_type": "code",
   "execution_count": 16,
   "id": "06e19164-d6d9-48bc-bfff-143e59a5fe75",
   "metadata": {},
   "outputs": [
    {
     "data": {
      "text/plain": [
       "[1, 2, 3, 4, 5, 6, 7, 8, 9, 10]"
      ]
     },
     "execution_count": 16,
     "metadata": {},
     "output_type": "execute_result"
    }
   ],
   "source": [
    "list1"
   ]
  },
  {
   "cell_type": "code",
   "execution_count": 17,
   "id": "ba584388-8295-468e-9fd3-e1f87ab5d8c2",
   "metadata": {},
   "outputs": [],
   "source": [
    "list_sum = 0\n",
    "\n",
    "for num in list1:\n",
    "    list_sum = list_sum + num"
   ]
  },
  {
   "cell_type": "code",
   "execution_count": 18,
   "id": "c6a0c9ef-8de1-421e-81a4-33e0af49e1c7",
   "metadata": {},
   "outputs": [
    {
     "name": "stdout",
     "output_type": "stream",
     "text": [
      "55\n"
     ]
    }
   ],
   "source": [
    "print(list_sum)"
   ]
  },
  {
   "cell_type": "markdown",
   "id": "b62d527e-ec4c-4fd2-9af5-d16fdc6486ab",
   "metadata": {},
   "source": [
    "## Example 4\n",
    "Let's see how we can use loops with string"
   ]
  },
  {
   "cell_type": "code",
   "execution_count": 19,
   "id": "d48f9d7d-73ff-4b48-85de-59dde36104f5",
   "metadata": {},
   "outputs": [
    {
     "name": "stdout",
     "output_type": "stream",
     "text": [
      "T\n",
      "h\n",
      "i\n",
      "s\n",
      " \n",
      "i\n",
      "s\n",
      " \n",
      "a\n",
      " \n",
      "s\n",
      "t\n",
      "r\n",
      "i\n",
      "n\n",
      "g\n"
     ]
    }
   ],
   "source": [
    "for letter in \"This is a string\":\n",
    "    print(letter)\n"
   ]
  },
  {
   "cell_type": "markdown",
   "id": "1421eef4-ca43-4e8c-88f7-96f5afa0d78e",
   "metadata": {},
   "source": [
    "## Example 5\n",
    "iterate through a tuple and print out the items there"
   ]
  },
  {
   "cell_type": "code",
   "execution_count": 20,
   "id": "e17d24f3-90de-4c12-9897-f908851cc966",
   "metadata": {},
   "outputs": [
    {
     "name": "stdout",
     "output_type": "stream",
     "text": [
      "1\n",
      "2\n",
      "3\n",
      "4\n",
      "5\n"
     ]
    }
   ],
   "source": [
    "tup = (1, 2, 3, 4, 5)\n",
    "\n",
    "for t in tup:\n",
    "    print(t)"
   ]
  },
  {
   "cell_type": "markdown",
   "id": "0660c473-fbe9-499e-a5e9-fdd6857bb213",
   "metadata": {},
   "source": [
    "## Example 6\n",
    "print out the sum of all the even numbers and the odd numbers in a list"
   ]
  },
  {
   "cell_type": "code",
   "execution_count": 21,
   "id": "aa521e9e-7ab1-489e-807d-f86fb2ae8e68",
   "metadata": {},
   "outputs": [
    {
     "data": {
      "text/plain": [
       "[1, 2, 3, 4, 5, 6, 7, 8, 9, 10]"
      ]
     },
     "execution_count": 21,
     "metadata": {},
     "output_type": "execute_result"
    }
   ],
   "source": [
    "list1"
   ]
  },
  {
   "cell_type": "code",
   "execution_count": 22,
   "id": "e8d5479c-5c95-4f83-b35f-82daacf6ff6a",
   "metadata": {},
   "outputs": [],
   "source": [
    "# Let's do it manually for the odd numbers..."
   ]
  },
  {
   "cell_type": "code",
   "execution_count": 24,
   "id": "12bb4719-a1cc-4b09-a362-ec69cd0dca4d",
   "metadata": {},
   "outputs": [
    {
     "data": {
      "text/plain": [
       "25"
      ]
     },
     "execution_count": 24,
     "metadata": {},
     "output_type": "execute_result"
    }
   ],
   "source": [
    "list1[0] + list1[2] + list1[4] + list1[6] + list1[8]"
   ]
  },
  {
   "cell_type": "code",
   "execution_count": 25,
   "id": "11cd7999-ab47-4aa3-bd32-bd4903d61213",
   "metadata": {},
   "outputs": [],
   "source": [
    "# Maual sum of even numbers.."
   ]
  },
  {
   "cell_type": "code",
   "execution_count": 28,
   "id": "f3ad0e18-0b7e-4c77-936d-c903229579cb",
   "metadata": {},
   "outputs": [
    {
     "data": {
      "text/plain": [
       "30"
      ]
     },
     "execution_count": 28,
     "metadata": {},
     "output_type": "execute_result"
    }
   ],
   "source": [
    "list1[1] + list1[3] + list1[5] + list1[7] + list1[9]"
   ]
  },
  {
   "cell_type": "markdown",
   "id": "7b9ad7a3-a67e-4f0c-aed7-8b95fe073998",
   "metadata": {},
   "source": [
    "# Using For loops...\n",
    "we need a variable that going to store the sum of the even and odd numbers.\n",
    "\n",
    "Because we dont know the value of the sum of either the even or odd number, we equal to 0\n",
    "See below..."
   ]
  },
  {
   "cell_type": "code",
   "execution_count": 30,
   "id": "a4671e89-0587-434c-853b-abc58a9d0597",
   "metadata": {},
   "outputs": [
    {
     "name": "stdout",
     "output_type": "stream",
     "text": [
      "Total even sum is: 30 \n",
      "Total Odd sum is: 10 \n"
     ]
    }
   ],
   "source": [
    "Even_sum = 0\n",
    "Odd_sum = 0\n",
    "\n",
    "for num in list1:\n",
    "    if num % 2 == 0:\n",
    "        Even_sum += num  #same as Even_sum = Even_sum + num\n",
    "else: \n",
    "    Odd_sum += num\n",
    "\n",
    "print(f\"Total even sum is: {Even_sum} \")\n",
    "print(f\"Total Odd sum is: {Odd_sum} \")"
   ]
  },
  {
   "cell_type": "markdown",
   "id": "d791e8de-cdc1-487c-baa5-2dd3bb4dd8b9",
   "metadata": {},
   "source": [
    "# While Loops"
   ]
  },
  {
   "cell_type": "code",
   "execution_count": 32,
   "id": "d2c7216d-1d8c-4a73-8e24-7115f48cdcaa",
   "metadata": {},
   "outputs": [
    {
     "name": "stdout",
     "output_type": "stream",
     "text": [
      "x is currently:  0\n",
      "x is still less than 10, adding 1 to x\n",
      "x is currently:  1\n",
      "x is still less than 10, adding 1 to x\n",
      "x is currently:  2\n",
      "x is still less than 10, adding 1 to x\n",
      "x is currently:  3\n",
      "x is still less than 10, adding 1 to x\n",
      "x is currently:  4\n",
      "x is still less than 10, adding 1 to x\n",
      "x is currently:  5\n",
      "x is still less than 10, adding 1 to x\n",
      "x is currently:  6\n",
      "x is still less than 10, adding 1 to x\n",
      "x is currently:  7\n",
      "x is still less than 10, adding 1 to x\n",
      "x is currently:  8\n",
      "x is still less than 10, adding 1 to x\n",
      "x is currently:  9\n",
      "x is still less than 10, adding 1 to x\n"
     ]
    }
   ],
   "source": [
    "x = 0\n",
    "\n",
    "while x < 10:\n",
    "    print(\"x is currently: \", x)\n",
    "    print(\"x is still less than 10, adding 1 to x\")\n",
    "    x += 1"
   ]
  },
  {
   "cell_type": "code",
   "execution_count": 33,
   "id": "10551da7-66e7-43bb-a287-05d90ca783a7",
   "metadata": {},
   "outputs": [],
   "source": [
    "# Let's print out 5 multiplication table"
   ]
  },
  {
   "cell_type": "code",
   "execution_count": 34,
   "id": "b6cd9e70-69bd-4fdf-9b4f-4b7b00ae75ee",
   "metadata": {},
   "outputs": [
    {
     "name": "stdout",
     "output_type": "stream",
     "text": [
      "5 * 1 = 5 \n",
      "5 * 2 = 10 \n",
      "5 * 3 = 15 \n",
      "5 * 4 = 20 \n",
      "5 * 5 = 25 \n",
      "5 * 6 = 30 \n",
      "5 * 7 = 35 \n",
      "5 * 8 = 40 \n",
      "5 * 9 = 45 \n",
      "5 * 10 = 50 \n",
      "5 * 11 = 55 \n",
      "5 * 12 = 60 \n"
     ]
    }
   ],
   "source": [
    "mul = 5\n",
    "start_point = 1\n",
    "max_num = 12\n",
    "\n",
    "while start_point <= max_num:\n",
    "    ans = mul * start_point\n",
    "    print(f\"{mul} * {start_point} = {ans} \")\n",
    "    start_point += 1"
   ]
  },
  {
   "cell_type": "markdown",
   "id": "63e74a8f-86d7-41c6-9f7a-0d082892825c",
   "metadata": {},
   "source": [
    "## Break and Continue Statement\n",
    "They are used to discontinue or continue loops"
   ]
  },
  {
   "cell_type": "code",
   "execution_count": 35,
   "id": "d943ef00-0eb9-4ced-acde-6ade9842454e",
   "metadata": {},
   "outputs": [
    {
     "name": "stdout",
     "output_type": "stream",
     "text": [
      "x is currently.  0\n",
      "x is less than 10, adding 1 to x\n",
      "Continuing...\n",
      "x is currently.  1\n",
      "x is less than 10, adding 1 to x\n",
      "Continuing...\n",
      "x is currently.  2\n",
      "x is less than 10, adding 1 to x\n",
      "x ==3\n",
      "x is currently.  3\n",
      "x is less than 10, adding 1 to x\n",
      "Continuing...\n",
      "x is currently.  4\n",
      "x is less than 10, adding 1 to x\n",
      "Continuing...\n",
      "x is currently.  5\n",
      "x is less than 10, adding 1 to x\n",
      "Continuing...\n",
      "x is currently.  6\n",
      "x is less than 10, adding 1 to x\n",
      "Continuing...\n",
      "x is currently.  7\n",
      "x is less than 10, adding 1 to x\n",
      "Continuing...\n",
      "x is currently.  8\n",
      "x is less than 10, adding 1 to x\n",
      "Continuing...\n",
      "x is currently.  9\n",
      "x is less than 10, adding 1 to x\n",
      "Continuing...\n"
     ]
    }
   ],
   "source": [
    "x = 0\n",
    "\n",
    "while x < 10:\n",
    "    print(\"x is currently. \", x)\n",
    "    print(\"x is less than 10, adding 1 to x\")\n",
    "    x += 1\n",
    "    if x == 3:\n",
    "        print(\"x ==3\")\n",
    "    else:\n",
    "        print(\"Continuing...\")\n",
    "        continue"
   ]
  },
  {
   "cell_type": "code",
   "execution_count": 36,
   "id": "3b03b8c4-36cb-48ef-8fd8-89720aeedceb",
   "metadata": {},
   "outputs": [
    {
     "name": "stdout",
     "output_type": "stream",
     "text": [
      "x is currently.  0\n",
      "x is less than 10, adding 1 to x\n",
      "Continuing...\n",
      "x is currently.  1\n",
      "x is less than 10, adding 1 to x\n",
      "Continuing...\n",
      "x is currently.  2\n",
      "x is less than 10, adding 1 to x\n",
      "x ==3\n"
     ]
    }
   ],
   "source": [
    "#Using break statement\n",
    "\n",
    "x = 0\n",
    "\n",
    "while x < 10:\n",
    "    print(\"x is currently. \", x)\n",
    "    print(\"x is less than 10, adding 1 to x\")\n",
    "    x += 1\n",
    "    if x == 3:\n",
    "        print(\"x ==3\")\n",
    "        break\n",
    "    else:\n",
    "        print(\"Continuing...\")\n",
    "        continue"
   ]
  },
  {
   "cell_type": "code",
   "execution_count": null,
   "id": "63efc6a8-5625-490d-87ac-a7aa8030394e",
   "metadata": {},
   "outputs": [],
   "source": []
  }
 ],
 "metadata": {
  "kernelspec": {
   "display_name": "Python 3 (ipykernel)",
   "language": "python",
   "name": "python3"
  },
  "language_info": {
   "codemirror_mode": {
    "name": "ipython",
    "version": 3
   },
   "file_extension": ".py",
   "mimetype": "text/x-python",
   "name": "python",
   "nbconvert_exporter": "python",
   "pygments_lexer": "ipython3",
   "version": "3.12.7"
  }
 },
 "nbformat": 4,
 "nbformat_minor": 5
}
