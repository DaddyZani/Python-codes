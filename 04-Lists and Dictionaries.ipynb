{
 "cells": [
  {
   "cell_type": "markdown",
   "id": "2e12d8c7-aa2a-4ba4-a3d9-9ae6e58ec133",
   "metadata": {},
   "source": [
    "# Lists"
   ]
  },
  {
   "cell_type": "code",
   "execution_count": 1,
   "id": "60fd0dbd-2b8e-4bb9-9df8-c3fb9df5da60",
   "metadata": {},
   "outputs": [],
   "source": [
    "#Lists are ordered sequences that can hold a variety of object types\n",
    "# they use square bracket[] and commas to separate objects in the list e.g [1,2,3,4,5]\n",
    "# lists support indexing and slicing. Lists can be nested and also have a variety of useful methods that can called off to them.\n",
    "#A nested list is a list that is inside another list\n",
    "# List - Objects are in ordered sequence, can be indexed or sliced and are retrived by location."
   ]
  },
  {
   "cell_type": "code",
   "execution_count": 2,
   "id": "c0af32bc-aa86-4a32-8bcc-9eb461996837",
   "metadata": {},
   "outputs": [],
   "source": [
    "my_list = [1, 2, 3]"
   ]
  },
  {
   "cell_type": "code",
   "execution_count": 3,
   "id": "4237f429-c548-445b-a919-2b76b3a37ef0",
   "metadata": {},
   "outputs": [],
   "source": [
    "# To find the value of my_list we run..."
   ]
  },
  {
   "cell_type": "code",
   "execution_count": 4,
   "id": "274daa21-d749-464d-a57e-26d7648d15ba",
   "metadata": {},
   "outputs": [
    {
     "data": {
      "text/plain": [
       "[1, 2, 3]"
      ]
     },
     "execution_count": 4,
     "metadata": {},
     "output_type": "execute_result"
    }
   ],
   "source": [
    "my_list"
   ]
  },
  {
   "cell_type": "code",
   "execution_count": 5,
   "id": "69a439a4-8cee-4235-9785-85790f7a335a",
   "metadata": {},
   "outputs": [],
   "source": [
    "# You noticed that this list is filled with integer values, however you can have other data types in a list e.g"
   ]
  },
  {
   "cell_type": "code",
   "execution_count": 6,
   "id": "9717b70b-1c5a-4b3b-ab7b-2674717cd1b6",
   "metadata": {},
   "outputs": [],
   "source": [
    "my_list = [\"A String\", 23, 100, 10, 4.7, \"0\"]"
   ]
  },
  {
   "cell_type": "code",
   "execution_count": 7,
   "id": "5f83be17-e3c2-4e6f-b3d8-654203dac4ee",
   "metadata": {},
   "outputs": [],
   "source": [
    "# now let's find the value of my_list. Remember that the value of my_list has now changed from [1, 2, 3] to [\"A String\", 23, 100, 10, 4.7, \"0\"]"
   ]
  },
  {
   "cell_type": "code",
   "execution_count": 8,
   "id": "c18c7d0e-0171-470f-b384-9c5f6fd93d18",
   "metadata": {},
   "outputs": [
    {
     "data": {
      "text/plain": [
       "['A String', 23, 100, 10, 4.7, '0']"
      ]
     },
     "execution_count": 8,
     "metadata": {},
     "output_type": "execute_result"
    }
   ],
   "source": [
    "my_list"
   ]
  },
  {
   "cell_type": "markdown",
   "id": "cf245577-3ff5-44e2-afee-da80255c4c24",
   "metadata": {},
   "source": [
    "#### We can check the total number of elements in this list by using the length function len()"
   ]
  },
  {
   "cell_type": "code",
   "execution_count": 10,
   "id": "12a6124b-453c-48f3-8667-1807f38af49b",
   "metadata": {},
   "outputs": [
    {
     "data": {
      "text/plain": [
       "6"
      ]
     },
     "execution_count": 10,
     "metadata": {},
     "output_type": "execute_result"
    }
   ],
   "source": [
    "len(my_list)"
   ]
  },
  {
   "cell_type": "markdown",
   "id": "8ef4d700-54f1-4d3f-9c08-51f3a6859261",
   "metadata": {},
   "source": [
    "#### lets look at indexing and slicing of Lists. for that we have to create new value for my_list"
   ]
  },
  {
   "cell_type": "code",
   "execution_count": 12,
   "id": "b0a4cf2f-e3f4-4607-9b44-3813494950d4",
   "metadata": {},
   "outputs": [],
   "source": [
    "my_list = [\"one\", \"two\", \"three\", 4, 5]"
   ]
  },
  {
   "cell_type": "code",
   "execution_count": 13,
   "id": "62699435-9f2c-43c9-aedf-4f49b9154652",
   "metadata": {},
   "outputs": [],
   "source": [
    "# To identify the index you want to print..."
   ]
  },
  {
   "cell_type": "code",
   "execution_count": 14,
   "id": "e9458b38-99c0-42aa-b040-df30a6183c7f",
   "metadata": {},
   "outputs": [
    {
     "data": {
      "text/plain": [
       "['two', 'three', 4, 5]"
      ]
     },
     "execution_count": 14,
     "metadata": {},
     "output_type": "execute_result"
    }
   ],
   "source": [
    "my_list[1:]"
   ]
  },
  {
   "cell_type": "code",
   "execution_count": 15,
   "id": "d09c3c78-7592-4e99-aaad-77eb32bb87ea",
   "metadata": {},
   "outputs": [
    {
     "data": {
      "text/plain": [
       "['one', 'two', 'three']"
      ]
     },
     "execution_count": 15,
     "metadata": {},
     "output_type": "execute_result"
    }
   ],
   "source": [
    "my_list[:3]"
   ]
  },
  {
   "cell_type": "code",
   "execution_count": 16,
   "id": "b0114bb9-15f0-4cc2-b1af-523b7d8b7074",
   "metadata": {},
   "outputs": [
    {
     "data": {
      "text/plain": [
       "['one', 'two', 'three', 4]"
      ]
     },
     "execution_count": 16,
     "metadata": {},
     "output_type": "execute_result"
    }
   ],
   "source": [
    "my_list[:4]"
   ]
  },
  {
   "cell_type": "markdown",
   "id": "98af1ec2-5694-4e94-8a49-a02dab3f7b60",
   "metadata": {},
   "source": [
    "#### we can concatenate new item to my_list"
   ]
  },
  {
   "cell_type": "code",
   "execution_count": 18,
   "id": "5e91ea0d-7b7e-428d-8093-b2035ad1abe5",
   "metadata": {},
   "outputs": [
    {
     "data": {
      "text/plain": [
       "['one', 'two', 'three', 4, 5, 'new item']"
      ]
     },
     "execution_count": 18,
     "metadata": {},
     "output_type": "execute_result"
    }
   ],
   "source": [
    "my_list + [\"new item\"]"
   ]
  },
  {
   "cell_type": "code",
   "execution_count": 19,
   "id": "2e84b560-8c55-4804-bbb9-03e6375bf2c3",
   "metadata": {},
   "outputs": [],
   "source": [
    "#however, if you run my_list, you will have the initial value of ['one', 'two', 'three', 4, 5] because the concatenation is not permanent"
   ]
  },
  {
   "cell_type": "code",
   "execution_count": 20,
   "id": "e29e7013-1990-4bd1-bff5-c603b96c9da6",
   "metadata": {},
   "outputs": [
    {
     "data": {
      "text/plain": [
       "['one', 'two', 'three', 4, 5]"
      ]
     },
     "execution_count": 20,
     "metadata": {},
     "output_type": "execute_result"
    }
   ],
   "source": [
    "my_list"
   ]
  },
  {
   "cell_type": "markdown",
   "id": "f3a2ee34-9e12-4577-8ffd-cd1d65f6b1c9",
   "metadata": {},
   "source": [
    "#### To permanently add an item to my_list..."
   ]
  },
  {
   "cell_type": "code",
   "execution_count": 22,
   "id": "610f41eb-0da1-41de-8dfa-28335528d854",
   "metadata": {},
   "outputs": [],
   "source": [
    "my_list = my_list + [\"new item\"]"
   ]
  },
  {
   "cell_type": "code",
   "execution_count": 23,
   "id": "fb005b8b-f358-4992-b314-8af06a44b257",
   "metadata": {},
   "outputs": [
    {
     "data": {
      "text/plain": [
       "['one', 'two', 'three', 4, 5, 'new item']"
      ]
     },
     "execution_count": 23,
     "metadata": {},
     "output_type": "execute_result"
    }
   ],
   "source": [
    "my_list"
   ]
  },
  {
   "cell_type": "markdown",
   "id": "3c3b4547-2e83-4030-98b4-c7c697b8040a",
   "metadata": {},
   "source": [
    "#### You can temporarily duplicate my_list by using the multiplication sign e.g my_list * 2"
   ]
  },
  {
   "cell_type": "code",
   "execution_count": 25,
   "id": "c0c049d2-0ab2-449c-a037-970a48044507",
   "metadata": {},
   "outputs": [
    {
     "data": {
      "text/plain": [
       "['one',\n",
       " 'two',\n",
       " 'three',\n",
       " 4,\n",
       " 5,\n",
       " 'new item',\n",
       " 'one',\n",
       " 'two',\n",
       " 'three',\n",
       " 4,\n",
       " 5,\n",
       " 'new item']"
      ]
     },
     "execution_count": 25,
     "metadata": {},
     "output_type": "execute_result"
    }
   ],
   "source": [
    "my_list * 2"
   ]
  },
  {
   "cell_type": "markdown",
   "id": "27783e2b-0b9e-4157-b99a-8473fb5567e5",
   "metadata": {},
   "source": [
    "## List Method"
   ]
  },
  {
   "cell_type": "code",
   "execution_count": 29,
   "id": "42db4acd-84c8-4643-b584-3644d8b3401a",
   "metadata": {},
   "outputs": [],
   "source": [
    "#Let's create a new list"
   ]
  },
  {
   "cell_type": "code",
   "execution_count": 30,
   "id": "f4d48cbb-9def-45e5-b451-4312f8d63ae1",
   "metadata": {},
   "outputs": [],
   "source": [
    "list1 = [1, 2, 3]"
   ]
  },
  {
   "cell_type": "markdown",
   "id": "d41ed318-a359-41e5-b283-eeddefe4db10",
   "metadata": {},
   "source": [
    "##### .append() means to add to exisiting list"
   ]
  },
  {
   "cell_type": "code",
   "execution_count": 36,
   "id": "63ee23e7-e2b1-471b-96b6-19fc91f0f249",
   "metadata": {},
   "outputs": [
    {
     "data": {
      "text/plain": [
       "[1, 2, 3, 'append me']"
      ]
     },
     "execution_count": 36,
     "metadata": {},
     "output_type": "execute_result"
    }
   ],
   "source": [
    "list1"
   ]
  },
  {
   "cell_type": "code",
   "execution_count": 33,
   "id": "7f824907-da93-4513-8240-5e7d904b3bd9",
   "metadata": {},
   "outputs": [],
   "source": [
    "list1.append(\"append me\")"
   ]
  },
  {
   "cell_type": "code",
   "execution_count": 34,
   "id": "b975bbce-88f4-4cf4-9b59-430f17e5b39f",
   "metadata": {},
   "outputs": [
    {
     "data": {
      "text/plain": [
       "[1, 2, 3, 'append me']"
      ]
     },
     "execution_count": 34,
     "metadata": {},
     "output_type": "execute_result"
    }
   ],
   "source": [
    "list1"
   ]
  },
  {
   "cell_type": "code",
   "execution_count": 37,
   "id": "ee607fb9-7753-441d-a977-583fe5fd1205",
   "metadata": {},
   "outputs": [],
   "source": [
    " # the variable name list1 was used because list is a keyword in Python and would show error when run. \n",
    "# when you write a variable name and it shows in colour green, then it is a keyword and would show error when run"
   ]
  },
  {
   "cell_type": "markdown",
   "id": "31c3d474-213c-4d1a-afb7-16606e5d5b55",
   "metadata": {},
   "source": [
    "#### .pop() means to permanently remove a particular index from the variable value, in this case, list1"
   ]
  },
  {
   "cell_type": "code",
   "execution_count": 38,
   "id": "bcef7e77-5fe7-43cc-b0da-896c3c59514a",
   "metadata": {},
   "outputs": [
    {
     "data": {
      "text/plain": [
       "1"
      ]
     },
     "execution_count": 38,
     "metadata": {},
     "output_type": "execute_result"
    }
   ],
   "source": [
    "list1.pop(0)"
   ]
  },
  {
   "cell_type": "code",
   "execution_count": 42,
   "id": "c43c8f85-791c-41d2-bacf-6ff4d4eb5f62",
   "metadata": {},
   "outputs": [],
   "source": [
    "# index 0 with value 1 has ben removed from the value of list1. lets run list1 again to see the current value.\n"
   ]
  },
  {
   "cell_type": "code",
   "execution_count": 40,
   "id": "78f92c5c-63b3-49a7-aac8-b3f9114e60c4",
   "metadata": {},
   "outputs": [
    {
     "data": {
      "text/plain": [
       "[2, 3, 'append me']"
      ]
     },
     "execution_count": 40,
     "metadata": {},
     "output_type": "execute_result"
    }
   ],
   "source": [
    "list1"
   ]
  },
  {
   "cell_type": "code",
   "execution_count": 45,
   "id": "7dc1c840-8770-4118-9bf0-4b563f87984a",
   "metadata": {},
   "outputs": [],
   "source": [
    "# You can create a variable for your pop \n",
    "# N.B If you dont specify any index, it will remove the last index"
   ]
  },
  {
   "cell_type": "code",
   "execution_count": 46,
   "id": "0a70daa3-0b3d-4942-bf3b-a43160a86a4c",
   "metadata": {},
   "outputs": [],
   "source": [
    "popped_item = list1.pop()"
   ]
  },
  {
   "cell_type": "code",
   "execution_count": 47,
   "id": "8ef7d478-163b-4f14-8f2c-aa3a1570dc94",
   "metadata": {},
   "outputs": [
    {
     "data": {
      "text/plain": [
       "'append me'"
      ]
     },
     "execution_count": 47,
     "metadata": {},
     "output_type": "execute_result"
    }
   ],
   "source": [
    "popped_item"
   ]
  },
  {
   "cell_type": "code",
   "execution_count": 48,
   "id": "5a62b438-e67f-4214-901b-2fb79c9598ea",
   "metadata": {},
   "outputs": [],
   "source": [
    "# You can see that the last index has been removed, now lets run list1 and see what's left..."
   ]
  },
  {
   "cell_type": "code",
   "execution_count": 49,
   "id": "3298b742-f0bd-476f-9df8-733bb58137f8",
   "metadata": {},
   "outputs": [
    {
     "data": {
      "text/plain": [
       "[2, 3]"
      ]
     },
     "execution_count": 49,
     "metadata": {},
     "output_type": "execute_result"
    }
   ],
   "source": [
    "list1"
   ]
  },
  {
   "cell_type": "code",
   "execution_count": 50,
   "id": "55022891-12ed-48f5-8892-26c8cca48f68",
   "metadata": {},
   "outputs": [],
   "source": [
    "# lets check the length of the current variable we have. in this case, the variable is list1"
   ]
  },
  {
   "cell_type": "code",
   "execution_count": 51,
   "id": "355e1506-ab6f-492b-835a-19df0477b10c",
   "metadata": {},
   "outputs": [
    {
     "data": {
      "text/plain": [
       "2"
      ]
     },
     "execution_count": 51,
     "metadata": {},
     "output_type": "execute_result"
    }
   ],
   "source": [
    "len(list1)"
   ]
  },
  {
   "cell_type": "code",
   "execution_count": 52,
   "id": "1a2befc2-310d-4b71-bab1-e9fab3977227",
   "metadata": {},
   "outputs": [],
   "source": [
    "#Let's create a new list e.g new_list"
   ]
  },
  {
   "cell_type": "code",
   "execution_count": 53,
   "id": "e8b934eb-8765-4c4d-9bb6-a9db980e3614",
   "metadata": {},
   "outputs": [],
   "source": [
    "new_list = [\"a\", \"h\", \"f\", \"m\", \"b\", \"c\"]"
   ]
  },
  {
   "cell_type": "code",
   "execution_count": 54,
   "id": "9d12de30-2a9d-4d56-b6fb-171ad1c222b6",
   "metadata": {},
   "outputs": [
    {
     "data": {
      "text/plain": [
       "['a', 'h', 'f', 'm', 'b', 'c']"
      ]
     },
     "execution_count": 54,
     "metadata": {},
     "output_type": "execute_result"
    }
   ],
   "source": [
    "new_list"
   ]
  },
  {
   "cell_type": "markdown",
   "id": "509325be-bed8-4a97-bce4-b50dd29d832f",
   "metadata": {},
   "source": [
    "#### .reverse is to reverse the indexes in the values of a particular variable, in this case, new_list."
   ]
  },
  {
   "cell_type": "code",
   "execution_count": 56,
   "id": "c9eb3b87-d8f3-4f61-ae2d-3d6d61abf9ca",
   "metadata": {},
   "outputs": [],
   "source": [
    "new_list.reverse()"
   ]
  },
  {
   "cell_type": "code",
   "execution_count": 57,
   "id": "f2833228-522f-42c9-bfc7-a3dda4a43004",
   "metadata": {},
   "outputs": [
    {
     "data": {
      "text/plain": [
       "['c', 'b', 'm', 'f', 'h', 'a']"
      ]
     },
     "execution_count": 57,
     "metadata": {},
     "output_type": "execute_result"
    }
   ],
   "source": [
    "new_list"
   ]
  },
  {
   "cell_type": "markdown",
   "id": "038cdbcc-7baa-4f9c-b6b7-80b64096501b",
   "metadata": {},
   "source": [
    "#### .sort is to arrange in alphabetical order"
   ]
  },
  {
   "cell_type": "code",
   "execution_count": 58,
   "id": "25da952a-b14b-4615-9d1f-75395e6d0a36",
   "metadata": {},
   "outputs": [],
   "source": [
    "new_list.sort()"
   ]
  },
  {
   "cell_type": "code",
   "execution_count": 59,
   "id": "23adf41b-dc30-4499-b47a-a7d7a6901300",
   "metadata": {},
   "outputs": [
    {
     "data": {
      "text/plain": [
       "['a', 'b', 'c', 'f', 'h', 'm']"
      ]
     },
     "execution_count": 59,
     "metadata": {},
     "output_type": "execute_result"
    }
   ],
   "source": [
    "new_list"
   ]
  },
  {
   "cell_type": "markdown",
   "id": "07179f0f-11a9-4dd6-8658-e1b116f81d05",
   "metadata": {},
   "source": [
    "#### To nest a variable"
   ]
  },
  {
   "cell_type": "code",
   "execution_count": 66,
   "id": "bf4713a0-f982-4832-ab12-2791d7cc7857",
   "metadata": {},
   "outputs": [],
   "source": [
    "lst_1 = [1, 2, 3]\n",
    "lst_2 = [4, 5, 6]\n",
    "lst_3 = [7, 8, 9]\n",
    "matrix = [lst_1, lst_2, lst_3]"
   ]
  },
  {
   "cell_type": "code",
   "execution_count": 67,
   "id": "a16c6886-f78d-4131-89fd-1d5d460adbe7",
   "metadata": {},
   "outputs": [
    {
     "data": {
      "text/plain": [
       "[[1, 2, 3], [4, 5, 6], [7, 8, 9]]"
      ]
     },
     "execution_count": 67,
     "metadata": {},
     "output_type": "execute_result"
    }
   ],
   "source": [
    "matrix"
   ]
  },
  {
   "cell_type": "code",
   "execution_count": 68,
   "id": "0fc0acc7-a5ab-4ebf-9a09-42db1aef7414",
   "metadata": {},
   "outputs": [],
   "source": [
    "# Lets access the first index"
   ]
  },
  {
   "cell_type": "code",
   "execution_count": 69,
   "id": "4412ffa3-e1ad-4688-906c-c9a913bf3347",
   "metadata": {},
   "outputs": [
    {
     "data": {
      "text/plain": [
       "[1, 2, 3]"
      ]
     },
     "execution_count": 69,
     "metadata": {},
     "output_type": "execute_result"
    }
   ],
   "source": [
    "matrix[0]"
   ]
  },
  {
   "cell_type": "code",
   "execution_count": 70,
   "id": "2038cff3-22e9-47fe-84f4-da766347ae4a",
   "metadata": {},
   "outputs": [],
   "source": [
    "# To access value 1 in the first index.."
   ]
  },
  {
   "cell_type": "code",
   "execution_count": 71,
   "id": "688b8321-7dda-4137-91b9-8239fb8d1f50",
   "metadata": {},
   "outputs": [
    {
     "data": {
      "text/plain": [
       "1"
      ]
     },
     "execution_count": 71,
     "metadata": {},
     "output_type": "execute_result"
    }
   ],
   "source": [
    "matrix[0][0]"
   ]
  },
  {
   "cell_type": "code",
   "execution_count": 75,
   "id": "a8cc2474-1c62-43a9-8888-cb9787fa258c",
   "metadata": {},
   "outputs": [],
   "source": [
    "# To access the last value of the last index, in this case 9..."
   ]
  },
  {
   "cell_type": "code",
   "execution_count": 73,
   "id": "4d376738-2bc0-4490-8552-f2fa9d5f6292",
   "metadata": {},
   "outputs": [
    {
     "data": {
      "text/plain": [
       "[7, 8, 9]"
      ]
     },
     "execution_count": 73,
     "metadata": {},
     "output_type": "execute_result"
    }
   ],
   "source": [
    "matrix[2]"
   ]
  },
  {
   "cell_type": "code",
   "execution_count": 74,
   "id": "4dd67ad8-0fe3-49fa-be3d-22a7094fd799",
   "metadata": {},
   "outputs": [
    {
     "data": {
      "text/plain": [
       "9"
      ]
     },
     "execution_count": 74,
     "metadata": {},
     "output_type": "execute_result"
    }
   ],
   "source": [
    "matrix[2][2]"
   ]
  },
  {
   "cell_type": "markdown",
   "id": "0f6467c5-10a9-458c-9e30-bbb3b642ff2a",
   "metadata": {},
   "source": [
    "#### List comprehension"
   ]
  },
  {
   "cell_type": "code",
   "execution_count": 78,
   "id": "6ed6f5b7-2482-4c6e-9dce-95fe7b86b788",
   "metadata": {},
   "outputs": [],
   "source": [
    "# Our matrix is actually arranged in rows, thus:\n",
    "\n",
    "#Matrix\n",
    "# 1 2 3\n",
    "# 4 5 6\n",
    "# 7 8 9\n",
    "# To access Row 1 which comprises of 2, 5, 8 we say"
   ]
  },
  {
   "cell_type": "code",
   "execution_count": 79,
   "id": "f6e9c9de-f419-4bd8-a908-daa727f0088a",
   "metadata": {},
   "outputs": [],
   "source": [
    "first_col = [row[1] for row in matrix]"
   ]
  },
  {
   "cell_type": "code",
   "execution_count": 80,
   "id": "af1387a5-4b66-452e-b263-6ded98f1ab42",
   "metadata": {},
   "outputs": [],
   "source": [
    "# so let check the value of first_col"
   ]
  },
  {
   "cell_type": "code",
   "execution_count": 81,
   "id": "2536adac-ff92-4565-9714-efa2a90670f1",
   "metadata": {},
   "outputs": [
    {
     "data": {
      "text/plain": [
       "[2, 5, 8]"
      ]
     },
     "execution_count": 81,
     "metadata": {},
     "output_type": "execute_result"
    }
   ],
   "source": [
    "first_col"
   ]
  },
  {
   "cell_type": "markdown",
   "id": "e5ba04f4-0057-4171-a184-cb5324d935b2",
   "metadata": {},
   "source": [
    "# Dictionaries"
   ]
  },
  {
   "cell_type": "code",
   "execution_count": 82,
   "id": "07be9e75-516b-4b57-bd5e-687ddffaf434",
   "metadata": {},
   "outputs": [],
   "source": [
    "# Dictionaries unordered mapping for storing objects. As Lists store objects in an ordered sequence, dictionaries use key-value pairing instead.\n",
    "# This key-value pairing allows users to quickly grab objecvts without  needing to know an index location.\n",
    "# Dictionaries use curly braces and colons to signify the key and their associated values e.g {'key1:'value1','key2':'value2'}\n",
    "#  Dictionaries - Objects are unordered and cannot be sorted, they are retrieved by key name. e.g"
   ]
  },
  {
   "cell_type": "code",
   "execution_count": 83,
   "id": "e86b5686-8f06-4f75-93d2-aa0108e50ef8",
   "metadata": {},
   "outputs": [],
   "source": [
    "my_dic = {\"key1\": \"value1\", \"key2\": \"value2\"}"
   ]
  },
  {
   "cell_type": "code",
   "execution_count": 84,
   "id": "a46668b4-cce8-44b9-896f-5fcaba85f4e0",
   "metadata": {},
   "outputs": [
    {
     "data": {
      "text/plain": [
       "{'key1': 'value1', 'key2': 'value2'}"
      ]
     },
     "execution_count": 84,
     "metadata": {},
     "output_type": "execute_result"
    }
   ],
   "source": [
    "my_dic"
   ]
  },
  {
   "cell_type": "code",
   "execution_count": 85,
   "id": "2fe65fdc-2afe-48cd-ae10-89e968201cc0",
   "metadata": {},
   "outputs": [],
   "source": [
    "# To access value2.."
   ]
  },
  {
   "cell_type": "code",
   "execution_count": 86,
   "id": "d7c5abed-02ff-4bb9-bfb9-54837b8e1644",
   "metadata": {},
   "outputs": [
    {
     "data": {
      "text/plain": [
       "'value2'"
      ]
     },
     "execution_count": 86,
     "metadata": {},
     "output_type": "execute_result"
    }
   ],
   "source": [
    "my_dic[\"key2\"]"
   ]
  },
  {
   "cell_type": "code",
   "execution_count": 87,
   "id": "fce3ec14-82af-49ee-a4aa-717b6df07207",
   "metadata": {},
   "outputs": [],
   "source": [
    "# Let's create a more complex dictionary"
   ]
  },
  {
   "cell_type": "code",
   "execution_count": 89,
   "id": "32315519-398d-4979-9e3f-4c9777395685",
   "metadata": {},
   "outputs": [],
   "source": [
    "my_dic = {\"key1\": 123, \"key2\": [12, 13, 14], \"key3\": [\"obi\", \"ada\", \"zani\"]}"
   ]
  },
  {
   "cell_type": "code",
   "execution_count": 90,
   "id": "e485cd27-119e-483f-9ae1-3756683070db",
   "metadata": {},
   "outputs": [
    {
     "data": {
      "text/plain": [
       "{'key1': 123, 'key2': [12, 13, 14], 'key3': ['obi', 'ada', 'zani']}"
      ]
     },
     "execution_count": 90,
     "metadata": {},
     "output_type": "execute_result"
    }
   ],
   "source": [
    "my_dic"
   ]
  },
  {
   "cell_type": "code",
   "execution_count": 91,
   "id": "3bb425f8-58e1-406a-99d9-5972354bfc26",
   "metadata": {},
   "outputs": [],
   "source": [
    "# To print out 'obi', we first print key3"
   ]
  },
  {
   "cell_type": "code",
   "execution_count": 92,
   "id": "ff93bc27-4811-4c52-ad37-f9be88b9e93e",
   "metadata": {},
   "outputs": [
    {
     "data": {
      "text/plain": [
       "['obi', 'ada', 'zani']"
      ]
     },
     "execution_count": 92,
     "metadata": {},
     "output_type": "execute_result"
    }
   ],
   "source": [
    "my_dic[\"key3\"]"
   ]
  },
  {
   "cell_type": "code",
   "execution_count": 93,
   "id": "752b5845-c5e4-4fba-969a-92abfa13e912",
   "metadata": {},
   "outputs": [
    {
     "data": {
      "text/plain": [
       "'obi'"
      ]
     },
     "execution_count": 93,
     "metadata": {},
     "output_type": "execute_result"
    }
   ],
   "source": [
    "my_dic[\"key3\"][0]"
   ]
  },
  {
   "cell_type": "code",
   "execution_count": 94,
   "id": "255d451f-d11e-4afe-b4bb-77eee2da7086",
   "metadata": {},
   "outputs": [],
   "source": [
    "# To perform some methods, say change to upper case.."
   ]
  },
  {
   "cell_type": "code",
   "execution_count": 96,
   "id": "c78f56c2-8d80-4833-978b-21d996fc0193",
   "metadata": {},
   "outputs": [
    {
     "data": {
      "text/plain": [
       "'OBI'"
      ]
     },
     "execution_count": 96,
     "metadata": {},
     "output_type": "execute_result"
    }
   ],
   "source": [
    "my_dic[\"key3\"][0].upper()"
   ]
  },
  {
   "cell_type": "code",
   "execution_count": 97,
   "id": "ff6eca5e-fb4a-4034-a729-579bc2b68708",
   "metadata": {},
   "outputs": [],
   "source": [
    "# Let's perform some arithmetices.."
   ]
  },
  {
   "cell_type": "code",
   "execution_count": 115,
   "id": "a5737bb2-99f8-4b21-9c73-e32e8c595131",
   "metadata": {},
   "outputs": [
    {
     "data": {
      "text/plain": [
       "[377]"
      ]
     },
     "execution_count": 115,
     "metadata": {},
     "output_type": "execute_result"
    }
   ],
   "source": [
    "my_dic[\"key1\"]"
   ]
  },
  {
   "cell_type": "code",
   "execution_count": 102,
   "id": "07854ad5-6bdb-4a9a-a886-f02bed11a9b5",
   "metadata": {},
   "outputs": [],
   "source": [
    "# Another way of performing this..."
   ]
  },
  {
   "cell_type": "code",
   "execution_count": 116,
   "id": "bff7f2f7-6cb2-4f31-b806-e3de5afddaff",
   "metadata": {},
   "outputs": [],
   "source": [
    "my_dic[\"key\"] = 123"
   ]
  },
  {
   "cell_type": "code",
   "execution_count": 117,
   "id": "c1c221a2-f011-4471-bc6b-ff52429280ed",
   "metadata": {},
   "outputs": [],
   "source": [
    "my_dic[\"key1\"] = 123 "
   ]
  },
  {
   "cell_type": "code",
   "execution_count": 118,
   "id": "a7b61165-e012-40af-889d-c4cdd000a39e",
   "metadata": {},
   "outputs": [],
   "source": [
    "my_dic[\"key1\"] = my_dic[\"key1\"] + 234"
   ]
  },
  {
   "cell_type": "code",
   "execution_count": 119,
   "id": "cc02f390-f4c2-4839-ba6c-9dc2173a10d4",
   "metadata": {},
   "outputs": [
    {
     "data": {
      "text/plain": [
       "357"
      ]
     },
     "execution_count": 119,
     "metadata": {},
     "output_type": "execute_result"
    }
   ],
   "source": [
    "my_dic[\"key1\"]"
   ]
  },
  {
   "cell_type": "code",
   "execution_count": 125,
   "id": "1d6b5885-3a64-4a70-b534-9dbcb262d6ce",
   "metadata": {},
   "outputs": [],
   "source": [
    "my_dic[\"key1\"] += 234"
   ]
  },
  {
   "cell_type": "code",
   "execution_count": 126,
   "id": "a76daeb6-378c-4fc2-901e-27f706c3b16a",
   "metadata": {},
   "outputs": [
    {
     "data": {
      "text/plain": [
       "357"
      ]
     },
     "execution_count": 126,
     "metadata": {},
     "output_type": "execute_result"
    }
   ],
   "source": [
    "my_dic[\"key1\"]"
   ]
  },
  {
   "cell_type": "code",
   "execution_count": 127,
   "id": "5c3c7118-610d-4e7f-b6dc-a5952388a1d1",
   "metadata": {},
   "outputs": [],
   "source": [
    "my_dic[\"key1\"] -= 234"
   ]
  },
  {
   "cell_type": "code",
   "execution_count": 128,
   "id": "bebcb2ef-0248-4333-bc15-88bcbad7ef5c",
   "metadata": {},
   "outputs": [
    {
     "data": {
      "text/plain": [
       "123"
      ]
     },
     "execution_count": 128,
     "metadata": {},
     "output_type": "execute_result"
    }
   ],
   "source": [
    "my_dic[\"key1\"]"
   ]
  },
  {
   "cell_type": "code",
   "execution_count": 129,
   "id": "61ad0115-419d-45c0-8131-4dbd8910884a",
   "metadata": {},
   "outputs": [],
   "source": [
    "# If we start off with an empty dictionary, we can continually add values to it e.g"
   ]
  },
  {
   "cell_type": "code",
   "execution_count": 130,
   "id": "d63e616d-aa9a-4302-8d8c-615a5ab193d9",
   "metadata": {},
   "outputs": [],
   "source": [
    "d = {}"
   ]
  },
  {
   "cell_type": "code",
   "execution_count": 131,
   "id": "7833594a-0443-414e-8c3c-ca1f3a13ef28",
   "metadata": {},
   "outputs": [],
   "source": [
    "d [\"animal\"] = \"dog\""
   ]
  },
  {
   "cell_type": "code",
   "execution_count": 132,
   "id": "0a4a1774-f29d-42be-9112-b3e565686d62",
   "metadata": {},
   "outputs": [
    {
     "data": {
      "text/plain": [
       "{'animal': 'dog'}"
      ]
     },
     "execution_count": 132,
     "metadata": {},
     "output_type": "execute_result"
    }
   ],
   "source": [
    "d"
   ]
  },
  {
   "cell_type": "code",
   "execution_count": 133,
   "id": "4afa24f0-256d-499c-b4e7-e72d0c1f3e74",
   "metadata": {},
   "outputs": [],
   "source": [
    "# Let's try and nest a dictioanry"
   ]
  },
  {
   "cell_type": "code",
   "execution_count": 134,
   "id": "b2b4e5d4-5548-4a77-b08f-bb8053d2139f",
   "metadata": {},
   "outputs": [],
   "source": [
    "d = {\"key1\":{\"nestkey\":{\"subnestkey\":\"value\"}}}"
   ]
  },
  {
   "cell_type": "code",
   "execution_count": 135,
   "id": "c11e1d7e-8a81-4102-8907-34550105d0ad",
   "metadata": {},
   "outputs": [
    {
     "data": {
      "text/plain": [
       "{'nestkey': {'subnestkey': 'value'}}"
      ]
     },
     "execution_count": 135,
     "metadata": {},
     "output_type": "execute_result"
    }
   ],
   "source": [
    "d[\"key1\"]"
   ]
  },
  {
   "cell_type": "code",
   "execution_count": 136,
   "id": "b4941160-9e46-4be8-97f8-9ddcb3465838",
   "metadata": {},
   "outputs": [],
   "source": [
    "# We have seen the value of d[\"key1\"], now let's find the value of [\"nestkey\"]"
   ]
  },
  {
   "cell_type": "code",
   "execution_count": 137,
   "id": "106b7a6c-3323-4d5e-90db-ac07f16448cc",
   "metadata": {},
   "outputs": [
    {
     "data": {
      "text/plain": [
       "{'subnestkey': 'value'}"
      ]
     },
     "execution_count": 137,
     "metadata": {},
     "output_type": "execute_result"
    }
   ],
   "source": [
    "d[\"key1\"][\"nestkey\"]"
   ]
  },
  {
   "cell_type": "code",
   "execution_count": 139,
   "id": "0e2caac2-c017-4c1d-ae63-b04199b1dca4",
   "metadata": {},
   "outputs": [],
   "source": [
    "# Lets take a look at some few dictionary methods that we have>>\n",
    "# Let's say we have..."
   ]
  },
  {
   "cell_type": "code",
   "execution_count": 140,
   "id": "16178963-0a3e-4223-9853-edcc619ceab6",
   "metadata": {},
   "outputs": [],
   "source": [
    "d = {\"key1\": 1, \"key2\": 2, \"key3\": 3}"
   ]
  },
  {
   "cell_type": "code",
   "execution_count": 141,
   "id": "0f99033d-56d0-4e2f-baca-6a11041b4471",
   "metadata": {},
   "outputs": [
    {
     "data": {
      "text/plain": [
       "{'key1': 1, 'key2': 2, 'key3': 3}"
      ]
     },
     "execution_count": 141,
     "metadata": {},
     "output_type": "execute_result"
    }
   ],
   "source": [
    "d"
   ]
  },
  {
   "cell_type": "code",
   "execution_count": 142,
   "id": "958cbd9d-d116-4ed3-acb5-16668e4bd515",
   "metadata": {},
   "outputs": [],
   "source": [
    "# The dictionary method for grabing all keys in the dictionary is .keys()\n",
    "# Let's grab all keys in d"
   ]
  },
  {
   "cell_type": "code",
   "execution_count": 143,
   "id": "497ac2b8-8a96-4f6e-bf92-6d58ff753a6f",
   "metadata": {},
   "outputs": [
    {
     "data": {
      "text/plain": [
       "dict_keys(['key1', 'key2', 'key3'])"
      ]
     },
     "execution_count": 143,
     "metadata": {},
     "output_type": "execute_result"
    }
   ],
   "source": [
    "d.keys()"
   ]
  },
  {
   "cell_type": "code",
   "execution_count": 144,
   "id": "022918de-69ee-4bbc-93d3-bed7b19f87bc",
   "metadata": {},
   "outputs": [
    {
     "data": {
      "text/plain": [
       "dict_items([('key1', 1), ('key2', 2), ('key3', 3)])"
      ]
     },
     "execution_count": 144,
     "metadata": {},
     "output_type": "execute_result"
    }
   ],
   "source": [
    "d.items()"
   ]
  },
  {
   "cell_type": "code",
   "execution_count": null,
   "id": "0d3b4755-a706-47f2-b3e7-1b4314100b7d",
   "metadata": {},
   "outputs": [],
   "source": []
  }
 ],
 "metadata": {
  "kernelspec": {
   "display_name": "Python 3 (ipykernel)",
   "language": "python",
   "name": "python3"
  },
  "language_info": {
   "codemirror_mode": {
    "name": "ipython",
    "version": 3
   },
   "file_extension": ".py",
   "mimetype": "text/x-python",
   "name": "python",
   "nbconvert_exporter": "python",
   "pygments_lexer": "ipython3",
   "version": "3.12.7"
  }
 },
 "nbformat": 4,
 "nbformat_minor": 5
}
