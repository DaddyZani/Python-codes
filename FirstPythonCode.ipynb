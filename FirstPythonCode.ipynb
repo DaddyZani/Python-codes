{
 "cells": [
  {
   "cell_type": "markdown",
   "id": "015d0b1d-207f-40fb-9871-36b9f8034bdc",
   "metadata": {},
   "source": [
    "# Welcome to my first Python Code\n",
    "# Heading 1\n",
    "## Heading 2\n",
    "### Heading 3\n",
    "#### Heading 4\n",
    "##### Heading 5\n",
    "###### Heading 6\n"
   ]
  },
  {
   "cell_type": "code",
   "execution_count": 1,
   "id": "ae0cea9b-500c-406b-a2a8-0b657665c0c0",
   "metadata": {},
   "outputs": [
    {
     "name": "stdout",
     "output_type": "stream",
     "text": [
      "Hello World\n"
     ]
    }
   ],
   "source": [
    " print (\"Hello World\")"
   ]
  },
  {
   "cell_type": "code",
   "execution_count": 2,
   "id": "c2280808-b98f-4727-be79-78626e5328ec",
   "metadata": {},
   "outputs": [
    {
     "name": "stdout",
     "output_type": "stream",
     "text": [
      "My name is Obinna\n"
     ]
    }
   ],
   "source": [
    "print (\"My name is Obinna\")"
   ]
  },
  {
   "cell_type": "markdown",
   "id": "58260922-f4d7-4337-9c89-669b825b1a6c",
   "metadata": {},
   "source": [
    "# What is Pthyon?"
   ]
  },
  {
   "cell_type": "code",
   "execution_count": 3,
   "id": "456a2b19-c527-47d6-8361-4686ec7741cc",
   "metadata": {},
   "outputs": [
    {
     "name": "stdout",
     "output_type": "stream",
     "text": [
      "This is going well\n"
     ]
    }
   ],
   "source": [
    "print (\"This is going well\")"
   ]
  },
  {
   "cell_type": "code",
   "execution_count": null,
   "id": "1132e25a-6b9c-462d-ad25-942cab945823",
   "metadata": {},
   "outputs": [],
   "source": []
  }
 ],
 "metadata": {
  "kernelspec": {
   "display_name": "Python 3 (ipykernel)",
   "language": "python",
   "name": "python3"
  },
  "language_info": {
   "codemirror_mode": {
    "name": "ipython",
    "version": 3
   },
   "file_extension": ".py",
   "mimetype": "text/x-python",
   "name": "python",
   "nbconvert_exporter": "python",
   "pygments_lexer": "ipython3",
   "version": "3.12.7"
  }
 },
 "nbformat": 4,
 "nbformat_minor": 5
}
