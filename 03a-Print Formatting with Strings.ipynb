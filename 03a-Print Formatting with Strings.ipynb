{
 "cells": [
  {
   "cell_type": "markdown",
   "id": "2f8e6bf3-a0c4-4b15-b25d-a17df2a4e4e3",
   "metadata": {},
   "source": [
    "## String Formatting\n",
    "#there are multiple ways to format strings for printing variables in themm this is known as string interpolation\n",
    "#lets explore these two mwthods of formatting strings\n",
    "#String formatting allows you to inject items into a string\n",
    "#1 .format() method\n",
    "#2 f-strings (formatted strings literals)"
   ]
  },
  {
   "cell_type": "markdown",
   "id": "b1ad9a6e-5d15-41b1-947f-2ef519aa6b2d",
   "metadata": {},
   "source": [
    "## Using .format() method"
   ]
  },
  {
   "cell_type": "code",
   "execution_count": 3,
   "id": "38d9a6da-bcd8-44ca-bf43-d3a622e7f48e",
   "metadata": {},
   "outputs": [
    {
     "name": "stdout",
     "output_type": "stream",
     "text": [
      "This is a string with an insert\n"
     ]
    }
   ],
   "source": [
    "print(\"This is a string with an {}\".format(\"insert\"))"
   ]
  },
  {
   "cell_type": "code",
   "execution_count": 5,
   "id": "571374dc-f504-4d44-ac00-f9d19035c3d5",
   "metadata": {
    "scrolled": true
   },
   "outputs": [
    {
     "name": "stdout",
     "output_type": "stream",
     "text": [
      "first object 1, second object two, third object 12.5\n"
     ]
    }
   ],
   "source": [
    "print(\"first object {a}, second object {b}, third object {c}\".format(a=1, b=\"two\", c=12.5))"
   ]
  },
  {
   "cell_type": "markdown",
   "id": "ac8e7705-58fc-4c76-8015-279a83993792",
   "metadata": {},
   "source": [
    "## Using f-Strings (formatted String literals)"
   ]
  },
  {
   "cell_type": "code",
   "execution_count": 6,
   "id": "de7fbedd-3fcf-4cd3-904a-55c89651cba8",
   "metadata": {},
   "outputs": [
    {
     "name": "stdout",
     "output_type": "stream",
     "text": [
      "I said my name is DaddyZani.\n"
     ]
    }
   ],
   "source": [
    "name = \"DaddyZani\"\n",
    "print(f\"I said my name is {name}.\")\n"
   ]
  },
  {
   "cell_type": "code",
   "execution_count": 7,
   "id": "e31b4588-492b-4a5f-9038-7cb16521a244",
   "metadata": {},
   "outputs": [],
   "source": [
    "age = 30\n",
    "cpga = 3.5"
   ]
  },
  {
   "cell_type": "code",
   "execution_count": 8,
   "id": "04d8209e-906c-41bd-a2c1-864fcbdfb170",
   "metadata": {},
   "outputs": [
    {
     "data": {
      "text/plain": [
       "30"
      ]
     },
     "execution_count": 8,
     "metadata": {},
     "output_type": "execute_result"
    }
   ],
   "source": [
    "age"
   ]
  },
  {
   "cell_type": "code",
   "execution_count": 9,
   "id": "f9660022-4df3-49eb-8667-0f2188ea491c",
   "metadata": {},
   "outputs": [
    {
     "data": {
      "text/plain": [
       "3.5"
      ]
     },
     "execution_count": 9,
     "metadata": {},
     "output_type": "execute_result"
    }
   ],
   "source": [
    "cpga"
   ]
  },
  {
   "cell_type": "code",
   "execution_count": 12,
   "id": "45a03125-d1e6-4b3a-8e51-945f0eb7f40b",
   "metadata": {},
   "outputs": [
    {
     "name": "stdout",
     "output_type": "stream",
     "text": [
      "DaddyZani is 30years and he has a cpga of 3.5 in his first semester\n"
     ]
    }
   ],
   "source": [
    "print(f\"{name} is {age}years and he has a cpga of {cpga} in his first semester\")"
   ]
  },
  {
   "cell_type": "markdown",
   "id": "711aa0bc-ba34-4691-9547-f6491a510f77",
   "metadata": {},
   "source": [
    "## Using concatenation method\n",
    "#you cannot concatenate integer or flow points without first writing str()"
   ]
  },
  {
   "cell_type": "code",
   "execution_count": 13,
   "id": "af5fa971-6cdb-41a3-935f-8b915d9f847c",
   "metadata": {},
   "outputs": [
    {
     "name": "stdout",
     "output_type": "stream",
     "text": [
      "DaddyZani is 30 and he has a cpga of 3.5in his first semester\n"
     ]
    }
   ],
   "source": [
    "print(name + \" is \" + str(age) + \" and he has a cpga of \" + str(cpga) + \"in his first semester\")"
   ]
  },
  {
   "cell_type": "code",
   "execution_count": null,
   "id": "f7535ca3-e571-4b18-94df-e2efde829f69",
   "metadata": {},
   "outputs": [],
   "source": []
  }
 ],
 "metadata": {
  "kernelspec": {
   "display_name": "Python 3 (ipykernel)",
   "language": "python",
   "name": "python3"
  },
  "language_info": {
   "codemirror_mode": {
    "name": "ipython",
    "version": 3
   },
   "file_extension": ".py",
   "mimetype": "text/x-python",
   "name": "python",
   "nbconvert_exporter": "python",
   "pygments_lexer": "ipython3",
   "version": "3.12.7"
  }
 },
 "nbformat": 4,
 "nbformat_minor": 5
}
