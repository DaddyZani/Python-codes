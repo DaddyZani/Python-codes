{
 "cells": [
  {
   "cell_type": "code",
   "execution_count": 1,
   "id": "db229abf-eebf-4320-867d-6de132088169",
   "metadata": {},
   "outputs": [],
   "source": [
    "# In the table below, a=3, b=4"
   ]
  },
  {
   "cell_type": "code",
   "execution_count": 3,
   "id": "bd072f0e-8b3f-4be6-9f06-a03af639981f",
   "metadata": {},
   "outputs": [],
   "source": [
    "#  == means if the values of two operands are equal. (a==b) not true"
   ]
  },
  {
   "cell_type": "code",
   "execution_count": 4,
   "id": "7d6d354f-7571-4c47-ad2b-d9bdb9615ab6",
   "metadata": {},
   "outputs": [],
   "source": [
    "# != means if the values of two operands are not equal. (a!=b) is true"
   ]
  },
  {
   "cell_type": "code",
   "execution_count": 5,
   "id": "d07c7253-9033-4838-8e1d-b11afb927a2b",
   "metadata": {},
   "outputs": [],
   "source": [
    "# > means if the value of the left operand is greater than the value of right operand. (a>b) is npt true"
   ]
  },
  {
   "cell_type": "code",
   "execution_count": 6,
   "id": "9a67baa8-bb34-40d3-8464-1c55ca19975f",
   "metadata": {},
   "outputs": [],
   "source": [
    "# < means if the value of the left operand is less than the value of the right operand. (a<b) is true"
   ]
  },
  {
   "cell_type": "code",
   "execution_count": 7,
   "id": "01ac2652-7a8d-4432-93fa-cfde64503827",
   "metadata": {},
   "outputs": [],
   "source": [
    "# >= means if the value of the left operand is greater than or equals to the value of the right operand. (a>=b) is not true"
   ]
  },
  {
   "cell_type": "code",
   "execution_count": 8,
   "id": "a3604981-5822-4f0e-900e-e18891840af9",
   "metadata": {},
   "outputs": [],
   "source": [
    "# <= means if the value of the left operand is les than or equal to the value of the right operand. (a<=b)nis true"
   ]
  },
  {
   "cell_type": "code",
   "execution_count": 9,
   "id": "6f8073ec-87af-462b-9b80-50224250aca9",
   "metadata": {},
   "outputs": [],
   "source": [
    "# let's see this example"
   ]
  },
  {
   "cell_type": "code",
   "execution_count": 10,
   "id": "0ef5ecd0-ac34-441d-bc12-3c08099fdcb9",
   "metadata": {},
   "outputs": [
    {
     "data": {
      "text/plain": [
       "True"
      ]
     },
     "execution_count": 10,
     "metadata": {},
     "output_type": "execute_result"
    }
   ],
   "source": [
    "2 == 2"
   ]
  },
  {
   "cell_type": "code",
   "execution_count": 11,
   "id": "2e87b42a-e6f6-42ef-868f-ad3da23e4d59",
   "metadata": {},
   "outputs": [
    {
     "data": {
      "text/plain": [
       "False"
      ]
     },
     "execution_count": 11,
     "metadata": {},
     "output_type": "execute_result"
    }
   ],
   "source": [
    "1==0"
   ]
  },
  {
   "cell_type": "code",
   "execution_count": 12,
   "id": "945887c4-0c57-4b2b-b907-bfb4dceca63e",
   "metadata": {},
   "outputs": [
    {
     "data": {
      "text/plain": [
       "True"
      ]
     },
     "execution_count": 12,
     "metadata": {},
     "output_type": "execute_result"
    }
   ],
   "source": [
    "2 != 1"
   ]
  },
  {
   "cell_type": "code",
   "execution_count": 13,
   "id": "08c1667c-6dbe-4563-a01e-01a3a8fc70a7",
   "metadata": {},
   "outputs": [
    {
     "data": {
      "text/plain": [
       "False"
      ]
     },
     "execution_count": 13,
     "metadata": {},
     "output_type": "execute_result"
    }
   ],
   "source": [
    "2 != 2"
   ]
  },
  {
   "cell_type": "code",
   "execution_count": 14,
   "id": "ec8e1acb-8e50-4826-819f-30bf96e8ed35",
   "metadata": {},
   "outputs": [
    {
     "data": {
      "text/plain": [
       "False"
      ]
     },
     "execution_count": 14,
     "metadata": {},
     "output_type": "execute_result"
    }
   ],
   "source": [
    "2 > 4"
   ]
  },
  {
   "cell_type": "code",
   "execution_count": 15,
   "id": "92c188cf-274c-4792-95e8-3ba04dcdc4a7",
   "metadata": {},
   "outputs": [
    {
     "data": {
      "text/plain": [
       "True"
      ]
     },
     "execution_count": 15,
     "metadata": {},
     "output_type": "execute_result"
    }
   ],
   "source": [
    "2 < 4"
   ]
  },
  {
   "cell_type": "code",
   "execution_count": 16,
   "id": "a1d359ed-3cd5-4f4a-a4bd-b3dba9e8c22c",
   "metadata": {},
   "outputs": [
    {
     "data": {
      "text/plain": [
       "False"
      ]
     },
     "execution_count": 16,
     "metadata": {},
     "output_type": "execute_result"
    }
   ],
   "source": [
    "2 >= 4"
   ]
  },
  {
   "cell_type": "code",
   "execution_count": 17,
   "id": "299e6e0c-0439-4332-92f3-bebe7ec4dfd7",
   "metadata": {},
   "outputs": [
    {
     "data": {
      "text/plain": [
       "True"
      ]
     },
     "execution_count": 17,
     "metadata": {},
     "output_type": "execute_result"
    }
   ],
   "source": [
    "2 <= 4"
   ]
  },
  {
   "cell_type": "markdown",
   "id": "b013068e-568b-41e5-9841-381f954ff4e4",
   "metadata": {},
   "source": [
    "#### The 'and' Operator & 'or' Operator\n",
    "\n"
   ]
  },
  {
   "cell_type": "code",
   "execution_count": 19,
   "id": "45d26db6-7f1b-4d8a-9437-773decc21eec",
   "metadata": {},
   "outputs": [],
   "source": [
    "# In the 'and' Operator, the condition will return 'True' if both conditions are true.\n",
    "# In the 'or' Operator, the condition will return 'True' if one of the conditions is true."
   ]
  },
  {
   "cell_type": "markdown",
   "id": "25e4135d-e272-4ab8-a574-abf48efd92dd",
   "metadata": {},
   "source": [
    "## Chained Comparison Operator"
   ]
  },
  {
   "cell_type": "code",
   "execution_count": 21,
   "id": "1fd01aac-d4e5-4910-9d61-d1afd35521f3",
   "metadata": {},
   "outputs": [
    {
     "data": {
      "text/plain": [
       "True"
      ]
     },
     "execution_count": 21,
     "metadata": {},
     "output_type": "execute_result"
    }
   ],
   "source": [
    "# Let's use this example\n",
    "\n",
    "1 < 2 < 3"
   ]
  },
  {
   "cell_type": "code",
   "execution_count": 24,
   "id": "e86a8cbc-ea99-4827-97f4-e74134c0af34",
   "metadata": {},
   "outputs": [
    {
     "data": {
      "text/plain": [
       "True"
      ]
     },
     "execution_count": 24,
     "metadata": {},
     "output_type": "execute_result"
    }
   ],
   "source": [
    "# A better way of writing this is:\n",
    "1 < 2 and 2 < 3\n",
    "\n",
    "# Remember the 'and' operator"
   ]
  },
  {
   "cell_type": "code",
   "execution_count": 26,
   "id": "872ff157-8515-4a5a-afc2-f0c017bb22c4",
   "metadata": {},
   "outputs": [
    {
     "data": {
      "text/plain": [
       "False"
      ]
     },
     "execution_count": 26,
     "metadata": {},
     "output_type": "execute_result"
    }
   ],
   "source": [
    "# another example\n",
    "2 > 3 and 2>1"
   ]
  },
  {
   "cell_type": "code",
   "execution_count": 27,
   "id": "43d3148c-2f78-4aaf-8cca-d5f90bc5feb1",
   "metadata": {},
   "outputs": [
    {
     "data": {
      "text/plain": [
       "True"
      ]
     },
     "execution_count": 27,
     "metadata": {},
     "output_type": "execute_result"
    }
   ],
   "source": [
    "1 == 2 or 2 < 3"
   ]
  },
  {
   "cell_type": "code",
   "execution_count": 28,
   "id": "89dcd334-30f1-4570-ac06-e3b1db68339a",
   "metadata": {},
   "outputs": [],
   "source": [
    "#To use it in a real senerio"
   ]
  },
  {
   "cell_type": "code",
   "execution_count": 30,
   "id": "359d6255-40a3-4af8-b122-735a5f056ffa",
   "metadata": {},
   "outputs": [
    {
     "data": {
      "text/plain": [
       "False"
      ]
     },
     "execution_count": 30,
     "metadata": {},
     "output_type": "execute_result"
    }
   ],
   "source": [
    "# Write a code to check if a user is qualified to get admitted into the university (assuming the minimum age for admission is 16)\n",
    "\n",
    "user_age = 20\n",
    "user_age < 16"
   ]
  },
  {
   "cell_type": "code",
   "execution_count": 34,
   "id": "1afe5f74-bb93-4770-941f-82f1ebce183c",
   "metadata": {},
   "outputs": [],
   "source": [
    "#Let's be more complex"
   ]
  },
  {
   "cell_type": "code",
   "execution_count": 35,
   "id": "660d6eaf-c93d-44d5-a542-b4231f45fb88",
   "metadata": {},
   "outputs": [
    {
     "name": "stdout",
     "output_type": "stream",
     "text": [
      "congratulations you've been admitted\n"
     ]
    }
   ],
   "source": [
    "if user_age <16:\n",
    "    print(\"sorry you can't be admitted\")\n",
    "else:\n",
    "    print(\"congratulations you've been admitted\")"
   ]
  },
  {
   "cell_type": "code",
   "execution_count": 37,
   "id": "ad7f4986-5ba1-4c5d-bb93-097ec3e51063",
   "metadata": {},
   "outputs": [],
   "source": [
    "# You can collect user input...\n",
    "# To collect a user input in Pyhthon, you use 'input'\n",
    "# F-strings, short for \"formatted string literals,\" are a way to embed expressions inside string literals, introduced in Python 3.6. \n",
    "# They provide a concise and readable way to format strings by prefixing the string with 'f' or 'F' and enclosing expressions within curly braces {}. \n",
    "# These expressions are evaluated at runtime, and their results are converted to strings and inserted into the final string."
   ]
  },
  {
   "cell_type": "code",
   "execution_count": 38,
   "id": "5361ff5b-3e0d-42a1-a92e-ddb831ef4698",
   "metadata": {},
   "outputs": [
    {
     "name": "stdin",
     "output_type": "stream",
     "text": [
      "Enter your age:  18\n"
     ]
    },
    {
     "name": "stdout",
     "output_type": "stream",
     "text": [
      "Your age is 18\n"
     ]
    }
   ],
   "source": [
    "user_age = input(\"Enter your age: \")\n",
    "print(f'Your age is {user_age}')"
   ]
  },
  {
   "cell_type": "code",
   "execution_count": 39,
   "id": "81135299-02ac-463c-97ba-9002e32da32e",
   "metadata": {},
   "outputs": [],
   "source": [
    "# Let's assume our age is 18, i will put 18 years, you can see it returned the age i inputed.\n",
    "# However, the returned result is a string and not an integer,which can't be used for comparison operator let's confirm"
   ]
  },
  {
   "cell_type": "code",
   "execution_count": 40,
   "id": "9fa7ebeb-acd1-42ba-9c8a-13004026f1a9",
   "metadata": {},
   "outputs": [
    {
     "data": {
      "text/plain": [
       "str"
      ]
     },
     "execution_count": 40,
     "metadata": {},
     "output_type": "execute_result"
    }
   ],
   "source": [
    "type(user_age)"
   ]
  },
  {
   "cell_type": "code",
   "execution_count": 41,
   "id": "86484a75-a933-43b5-99c9-21990b3d4b75",
   "metadata": {},
   "outputs": [],
   "source": [
    "# To convert to integer..."
   ]
  },
  {
   "cell_type": "code",
   "execution_count": 42,
   "id": "0f730de4-8c4c-4080-a46a-5fa25afde541",
   "metadata": {},
   "outputs": [
    {
     "name": "stdin",
     "output_type": "stream",
     "text": [
      "Enter your age:  18\n"
     ]
    }
   ],
   "source": [
    "user_age = int(input(\"Enter your age: \"))"
   ]
  },
  {
   "cell_type": "code",
   "execution_count": 44,
   "id": "f5042aec-1b78-45f9-a5f8-5fd867d1e13d",
   "metadata": {},
   "outputs": [
    {
     "data": {
      "text/plain": [
       "int"
      ]
     },
     "execution_count": 44,
     "metadata": {},
     "output_type": "execute_result"
    }
   ],
   "source": [
    "type(user_age)"
   ]
  },
  {
   "cell_type": "code",
   "execution_count": 46,
   "id": "8d0d3e30-5f54-40bf-b378-436ebaac92ac",
   "metadata": {},
   "outputs": [],
   "source": [
    "# You can see that by including int() the user_age was changed to an integer\n",
    "# so let's rerun the code again"
   ]
  },
  {
   "cell_type": "code",
   "execution_count": 54,
   "id": "f7bb30cc-f98f-4006-acdc-1d98c5e527dc",
   "metadata": {},
   "outputs": [
    {
     "name": "stdin",
     "output_type": "stream",
     "text": [
      "Enter your age:  18\n"
     ]
    },
    {
     "name": "stdout",
     "output_type": "stream",
     "text": [
      "Your age is 18\n",
      "congratulations you've been admitted into our university\n"
     ]
    }
   ],
   "source": [
    "user_age = int(input(\"Enter your age: \"))\n",
    "print(f'Your age is {user_age}')\n",
    "\n",
    "if user_age <16:\n",
    "    print(f\"sorry you can't be admitted this time because your age {user_age} is less than 16 years\")\n",
    "else:\n",
    "    print(\"congratulations you've been admitted into our university\")\n",
    "    \n",
    "    \n",
    "    "
   ]
  },
  {
   "cell_type": "code",
   "execution_count": null,
   "id": "e6d51aa5-d230-4347-9a56-26ab20a39106",
   "metadata": {},
   "outputs": [],
   "source": []
  }
 ],
 "metadata": {
  "kernelspec": {
   "display_name": "Python 3 (ipykernel)",
   "language": "python",
   "name": "python3"
  },
  "language_info": {
   "codemirror_mode": {
    "name": "ipython",
    "version": 3
   },
   "file_extension": ".py",
   "mimetype": "text/x-python",
   "name": "python",
   "nbconvert_exporter": "python",
   "pygments_lexer": "ipython3",
   "version": "3.12.7"
  }
 },
 "nbformat": 4,
 "nbformat_minor": 5
}
