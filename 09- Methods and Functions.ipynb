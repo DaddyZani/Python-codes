{
 "cells": [
  {
   "cell_type": "markdown",
   "id": "14ab8818-04b6-48d4-9d54-160e60f65759",
   "metadata": {},
   "source": [
    "# Methods\n",
    "You can press shift + tab to get more infomation about any particular method"
   ]
  },
  {
   "cell_type": "code",
   "execution_count": null,
   "id": "ce4f86d6-6254-401d-afad-aadcb1c74693",
   "metadata": {},
   "outputs": [],
   "source": [
    "# .append()\n",
    "# adds an element to at the end of the list\n",
    "\n",
    "# Let's say we have a list\n",
    "lst = [1, 2, 3, 4, 5]\n",
    "\n",
    "lst.append(6)"
   ]
  },
  {
   "cell_type": "code",
   "execution_count": 2,
   "id": "2d9b540e-fb5f-4faa-aeac-90a9d31b45b1",
   "metadata": {},
   "outputs": [
    {
     "data": {
      "text/plain": [
       "[1, 2, 3, 4, 5, 6]"
      ]
     },
     "execution_count": 2,
     "metadata": {},
     "output_type": "execute_result"
    }
   ],
   "source": [
    "lst"
   ]
  },
  {
   "cell_type": "code",
   "execution_count": 4,
   "id": "a3245f9f-76fe-4ac0-b365-482303d8345b",
   "metadata": {},
   "outputs": [],
   "source": [
    "lst.append(2)"
   ]
  },
  {
   "cell_type": "code",
   "execution_count": 6,
   "id": "cb6a602d-cc30-4a9f-9155-7aa14a4a0d4f",
   "metadata": {},
   "outputs": [
    {
     "data": {
      "text/plain": [
       "[1, 2, 3, 4, 5, 6, 2, 2]"
      ]
     },
     "execution_count": 6,
     "metadata": {},
     "output_type": "execute_result"
    }
   ],
   "source": [
    "lst"
   ]
  },
  {
   "cell_type": "markdown",
   "id": "edafa7aa-6fc3-4f7e-bc3f-8111f0e88acc",
   "metadata": {},
   "source": [
    "#### .count()\n",
    "Returns the number of elements with the specified value\n",
    "\n"
   ]
  },
  {
   "cell_type": "code",
   "execution_count": 7,
   "id": "0e8384f5-edfe-4d06-beda-c018d720e981",
   "metadata": {},
   "outputs": [
    {
     "data": {
      "text/plain": [
       "[1, 2, 3, 4, 5, 6, 2, 2]"
      ]
     },
     "execution_count": 7,
     "metadata": {},
     "output_type": "execute_result"
    }
   ],
   "source": [
    "lst"
   ]
  },
  {
   "cell_type": "code",
   "execution_count": 8,
   "id": "ecbfd3ec-be61-4887-8548-417ec0304216",
   "metadata": {},
   "outputs": [
    {
     "data": {
      "text/plain": [
       "3"
      ]
     },
     "execution_count": 8,
     "metadata": {},
     "output_type": "execute_result"
    }
   ],
   "source": [
    "lst.count(2)"
   ]
  },
  {
   "cell_type": "markdown",
   "id": "cb97ccab-8ca3-4eaf-9340-df3fd2dd0b90",
   "metadata": {},
   "source": [
    "# Functions\n",
    "functions are bunch of useable codes that get executed only when called."
   ]
  },
  {
   "cell_type": "code",
   "execution_count": null,
   "id": "ccb92107-3610-4e9c-a65d-575fef2678d9",
   "metadata": {},
   "outputs": [],
   "source": [
    "# To define a function we use def e.g\n",
    "\n",
    "def name_of_function():\n",
    "    ...\n",
    "    This is where the function's document string goes\n",
    "    when you call help() on your function it will be printed out\n",
    "    ..."
   ]
  },
  {
   "cell_type": "code",
   "execution_count": 9,
   "id": "e7724503-9649-4089-b903-028db0b5756d",
   "metadata": {},
   "outputs": [],
   "source": [
    "# Let's create a function\n",
    "\n",
    "def say_hello():\n",
    "    print(\"Hello Daddy Zani\")"
   ]
  },
  {
   "cell_type": "code",
   "execution_count": 10,
   "id": "4ce15e63-9b66-4c0b-8310-68ad6d442a3c",
   "metadata": {},
   "outputs": [
    {
     "name": "stdout",
     "output_type": "stream",
     "text": [
      "Hello Daddy Zani\n"
     ]
    }
   ],
   "source": [
    "# To call the function\n",
    "\n",
    "say_hello()"
   ]
  },
  {
   "cell_type": "markdown",
   "id": "cc4e563d-a675-4788-a0ee-1e0c4595308e",
   "metadata": {},
   "source": [
    "#### Parameter and Argument"
   ]
  },
  {
   "cell_type": "code",
   "execution_count": 12,
   "id": "5afaa5c7-b748-4044-b158-0ee63cc1bc2c",
   "metadata": {},
   "outputs": [],
   "source": [
    "def greetings(name): # name passed into the function is kmown as parameter\n",
    "    print(f\"Hello {name}\")"
   ]
  },
  {
   "cell_type": "code",
   "execution_count": 14,
   "id": "f38311e7-7242-4fc3-b533-d45d0d51ff07",
   "metadata": {},
   "outputs": [
    {
     "name": "stdout",
     "output_type": "stream",
     "text": [
      "Hello Zani\n"
     ]
    }
   ],
   "source": [
    "greetings(\"Zani\") # arguments are data passed into function when it's being called."
   ]
  },
  {
   "cell_type": "code",
   "execution_count": 15,
   "id": "7b4d9005-f046-4b1d-87e3-3de7bac31ae1",
   "metadata": {},
   "outputs": [
    {
     "name": "stdout",
     "output_type": "stream",
     "text": [
      "Hello Channah\n"
     ]
    }
   ],
   "source": [
    "# We can call the function again\n",
    "\n",
    "greetings(\"Channah\")"
   ]
  },
  {
   "cell_type": "code",
   "execution_count": 16,
   "id": "a9b463c2-3899-4910-99e2-5ffbf8872b2f",
   "metadata": {},
   "outputs": [],
   "source": [
    "#let's see anoher example\n",
    "\n",
    "def add_num(num1, num2):\n",
    "    add = num1 + num2\n",
    "    return add"
   ]
  },
  {
   "cell_type": "code",
   "execution_count": 17,
   "id": "6d7ced24-c4a4-4c09-ba49-65550f154114",
   "metadata": {},
   "outputs": [
    {
     "data": {
      "text/plain": [
       "94"
      ]
     },
     "execution_count": 17,
     "metadata": {},
     "output_type": "execute_result"
    }
   ],
   "source": [
    "add_num(7, 87)"
   ]
  },
  {
   "cell_type": "code",
   "execution_count": 18,
   "id": "a1b9cbc1-76af-4c69-b342-f6d1d52679d7",
   "metadata": {},
   "outputs": [],
   "source": [
    "result = add_num(7, 87)"
   ]
  },
  {
   "cell_type": "code",
   "execution_count": 19,
   "id": "004e702d-cb81-484b-882d-6274b63e68c5",
   "metadata": {},
   "outputs": [
    {
     "name": "stdout",
     "output_type": "stream",
     "text": [
      "94\n"
     ]
    }
   ],
   "source": [
    "print(result)"
   ]
  },
  {
   "cell_type": "code",
   "execution_count": 22,
   "id": "d2c1fb2b-20db-4a65-ad97-560de9f7c9f8",
   "metadata": {},
   "outputs": [
    {
     "data": {
      "text/plain": [
       "'onetwo'"
      ]
     },
     "execution_count": 22,
     "metadata": {},
     "output_type": "execute_result"
    }
   ],
   "source": [
    "# if you are using + on strings, it wil concatenate them together\n",
    "\n",
    "add_num(\"one\", \"two\")"
   ]
  },
  {
   "cell_type": "code",
   "execution_count": 23,
   "id": "c41853b2-8ff3-4e85-b02c-7e1e06672763",
   "metadata": {},
   "outputs": [
    {
     "data": {
      "text/plain": [
       "'onetwo'"
      ]
     },
     "execution_count": 23,
     "metadata": {},
     "output_type": "execute_result"
    }
   ],
   "source": [
    "\"one\"+\"two\""
   ]
  },
  {
   "cell_type": "markdown",
   "id": "586c6ea5-21b6-4389-b663-7e140b173538",
   "metadata": {},
   "source": [
    "#### The difference between 'return' and 'print'\n",
    "\n"
   ]
  },
  {
   "cell_type": "code",
   "execution_count": 24,
   "id": "a3c555de-3411-44f1-b54b-501fb1272450",
   "metadata": {},
   "outputs": [],
   "source": [
    "def print_result(a, b):\n",
    "    print(a+b)"
   ]
  },
  {
   "cell_type": "code",
   "execution_count": 25,
   "id": "aa65444b-ada8-482b-bf68-835dbf1bfb10",
   "metadata": {},
   "outputs": [],
   "source": [
    "# You won't see any output if you run this in a .py script\n",
    "def return_result(a, b):\n",
    "    return a + b"
   ]
  },
  {
   "cell_type": "code",
   "execution_count": 26,
   "id": "37eb532a-676d-49fa-84b7-3997216fd923",
   "metadata": {},
   "outputs": [
    {
     "name": "stdout",
     "output_type": "stream",
     "text": [
      "22\n"
     ]
    }
   ],
   "source": [
    "print_result(17, 5)"
   ]
  },
  {
   "cell_type": "code",
   "execution_count": 27,
   "id": "3e0094a2-432a-4074-8d94-801db31cb800",
   "metadata": {},
   "outputs": [
    {
     "data": {
      "text/plain": [
       "26"
      ]
     },
     "execution_count": 27,
     "metadata": {},
     "output_type": "execute_result"
    }
   ],
   "source": [
    "return_result(19, 7)"
   ]
  },
  {
   "cell_type": "code",
   "execution_count": 28,
   "id": "27cb2c5b-2ea1-4c31-99ef-f2389df1f796",
   "metadata": {},
   "outputs": [],
   "source": [
    "my_result = return_result(13, 72)"
   ]
  },
  {
   "cell_type": "code",
   "execution_count": 29,
   "id": "54ad3c58-196f-452d-a43f-0862e6c6cab0",
   "metadata": {},
   "outputs": [
    {
     "data": {
      "text/plain": [
       "85"
      ]
     },
     "execution_count": 29,
     "metadata": {},
     "output_type": "execute_result"
    }
   ],
   "source": [
    "my_result"
   ]
  },
  {
   "cell_type": "code",
   "execution_count": 30,
   "id": "3ea045f4-6464-4c5e-a00a-3cc9e5a3f229",
   "metadata": {},
   "outputs": [
    {
     "name": "stdout",
     "output_type": "stream",
     "text": [
      "22\n"
     ]
    }
   ],
   "source": [
    "my_result2 = print_result(10, 12)"
   ]
  },
  {
   "cell_type": "code",
   "execution_count": 31,
   "id": "11e1e7c6-9a12-410a-bc53-410ca7f398d9",
   "metadata": {},
   "outputs": [
    {
     "data": {
      "text/plain": [
       "int"
      ]
     },
     "execution_count": 31,
     "metadata": {},
     "output_type": "execute_result"
    }
   ],
   "source": [
    "# To check their types\n",
    "\n",
    "type(my_result)"
   ]
  },
  {
   "cell_type": "code",
   "execution_count": 32,
   "id": "8cef3609-2a8e-45c8-ace0-c78372a80c24",
   "metadata": {},
   "outputs": [
    {
     "data": {
      "text/plain": [
       "NoneType"
      ]
     },
     "execution_count": 32,
     "metadata": {},
     "output_type": "execute_result"
    }
   ],
   "source": [
    "type(my_result2)"
   ]
  },
  {
   "cell_type": "markdown",
   "id": "0c55cf23-8f46-43c1-ba3a-165d6094b1a1",
   "metadata": {},
   "source": [
    "#### Adding Logic to internal function operation"
   ]
  },
  {
   "cell_type": "code",
   "execution_count": 33,
   "id": "369cd255-2acc-4c62-b8ee-62449abd958c",
   "metadata": {},
   "outputs": [],
   "source": [
    "# Let's say we want to run a function that checks if a number is even\n",
    "\n",
    "def even_check(number):\n",
    "    return number % 2 == 0"
   ]
  },
  {
   "cell_type": "code",
   "execution_count": 34,
   "id": "d1cb9f5c-9719-4c0c-a219-be4e3237948f",
   "metadata": {},
   "outputs": [
    {
     "data": {
      "text/plain": [
       "False"
      ]
     },
     "execution_count": 34,
     "metadata": {},
     "output_type": "execute_result"
    }
   ],
   "source": [
    "even_check(45)"
   ]
  },
  {
   "cell_type": "code",
   "execution_count": 35,
   "id": "7e5b53ce-b474-4053-b2dc-66d837054e29",
   "metadata": {},
   "outputs": [
    {
     "data": {
      "text/plain": [
       "True"
      ]
     },
     "execution_count": 35,
     "metadata": {},
     "output_type": "execute_result"
    }
   ],
   "source": [
    "even_check(20)"
   ]
  },
  {
   "cell_type": "code",
   "execution_count": 39,
   "id": "344839d2-43d7-43b6-9159-94246a1d6c0e",
   "metadata": {},
   "outputs": [],
   "source": [
    "# Let's check if any number is even or odd\n",
    "\n",
    "def even_or_odd(number):\n",
    "    if number % 2 == 0:\n",
    "        print(f\"{number} is an even number\")\n",
    "    else:\n",
    "        print(f\"{number} is an odd number\")"
   ]
  },
  {
   "cell_type": "code",
   "execution_count": 37,
   "id": "4cfc4e99-8a98-4dfa-8f47-4247047d6597",
   "metadata": {},
   "outputs": [
    {
     "name": "stdout",
     "output_type": "stream",
     "text": [
      "12 is an even number\n"
     ]
    }
   ],
   "source": [
    "even_or_odd(12)"
   ]
  },
  {
   "cell_type": "code",
   "execution_count": 40,
   "id": "1402f3cb-ec7e-48de-a8b2-feb1684146ed",
   "metadata": {},
   "outputs": [
    {
     "name": "stdout",
     "output_type": "stream",
     "text": [
      "13 is an odd number\n"
     ]
    }
   ],
   "source": [
    "even_or_odd(13)"
   ]
  }
 ],
 "metadata": {
  "kernelspec": {
   "display_name": "Python 3 (ipykernel)",
   "language": "python",
   "name": "python3"
  },
  "language_info": {
   "codemirror_mode": {
    "name": "ipython",
    "version": 3
   },
   "file_extension": ".py",
   "mimetype": "text/x-python",
   "name": "python",
   "nbconvert_exporter": "python",
   "pygments_lexer": "ipython3",
   "version": "3.12.7"
  }
 },
 "nbformat": 4,
 "nbformat_minor": 5
}
