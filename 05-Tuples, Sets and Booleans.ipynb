{
 "cells": [
  {
   "cell_type": "markdown",
   "id": "784cbc7a-43f0-4e93-b2f9-7b54e3ebde0d",
   "metadata": {},
   "source": [
    "# Tuples"
   ]
  },
  {
   "cell_type": "code",
   "execution_count": 2,
   "id": "2f398cfe-0c3e-4bd2-a6d9-85c7841b777e",
   "metadata": {},
   "outputs": [],
   "source": [
    "#Tuples are like lists however they are immutable, meaning they can't be modified\n",
    "# We use Tuples to represent things that can't be changed e.g days of the week, date.\n",
    "# Let's see this example.."
   ]
  },
  {
   "cell_type": "code",
   "execution_count": 3,
   "id": "88d676cb-85a3-4ae2-b4ba-4349355edafb",
   "metadata": {},
   "outputs": [],
   "source": [
    "t = (1, 2, 3)"
   ]
  },
  {
   "cell_type": "code",
   "execution_count": 4,
   "id": "b7d9ed0f-80a3-4b93-8109-3a7298dcb7b6",
   "metadata": {},
   "outputs": [],
   "source": [
    "# We can check the length"
   ]
  },
  {
   "cell_type": "code",
   "execution_count": 5,
   "id": "feea1c57-7eb7-4d68-a02b-8cd0f0e025a8",
   "metadata": {},
   "outputs": [
    {
     "data": {
      "text/plain": [
       "3"
      ]
     },
     "execution_count": 5,
     "metadata": {},
     "output_type": "execute_result"
    }
   ],
   "source": [
    "len(t)"
   ]
  },
  {
   "cell_type": "code",
   "execution_count": 6,
   "id": "6bb1326e-fa90-469e-b8a7-c1562f21fad8",
   "metadata": {},
   "outputs": [],
   "source": [
    "# We can create different data object types in Tuple just as in List. That is reassigning variables to the Tuple"
   ]
  },
  {
   "cell_type": "code",
   "execution_count": 7,
   "id": "903c1e0c-21c1-4266-87f2-af94c1b81514",
   "metadata": {},
   "outputs": [],
   "source": [
    "t = (\"one\", 2)"
   ]
  },
  {
   "cell_type": "code",
   "execution_count": 8,
   "id": "53b9c6be-e5a0-45ab-93cc-4a9dda45c669",
   "metadata": {},
   "outputs": [
    {
     "data": {
      "text/plain": [
       "('one', 2)"
      ]
     },
     "execution_count": 8,
     "metadata": {},
     "output_type": "execute_result"
    }
   ],
   "source": [
    "t"
   ]
  },
  {
   "cell_type": "code",
   "execution_count": 10,
   "id": "53af7394-7186-434e-abe5-00ccbb4d526c",
   "metadata": {},
   "outputs": [],
   "source": [
    "# We can also use index to grab an item from the Tuple just as in List e.g"
   ]
  },
  {
   "cell_type": "code",
   "execution_count": 11,
   "id": "56091de5-105f-480c-a45f-f0f060d195df",
   "metadata": {},
   "outputs": [
    {
     "data": {
      "text/plain": [
       "'one'"
      ]
     },
     "execution_count": 11,
     "metadata": {},
     "output_type": "execute_result"
    }
   ],
   "source": [
    "t[0]"
   ]
  },
  {
   "cell_type": "code",
   "execution_count": 12,
   "id": "f8e38e0d-fdd8-4d45-8c2e-379c9e1a0af3",
   "metadata": {},
   "outputs": [],
   "source": [
    "# We can as well grab the last item on the list here e.g"
   ]
  },
  {
   "cell_type": "code",
   "execution_count": 13,
   "id": "c48e5f78-4adf-460e-b4fa-24966bd0d0b1",
   "metadata": {},
   "outputs": [
    {
     "data": {
      "text/plain": [
       "2"
      ]
     },
     "execution_count": 13,
     "metadata": {},
     "output_type": "execute_result"
    }
   ],
   "source": [
    "t[-1]"
   ]
  },
  {
   "cell_type": "markdown",
   "id": "575af97a-faee-49fd-a527-f449e60800a7",
   "metadata": {},
   "source": [
    "#### Basic Methods in Tuple"
   ]
  },
  {
   "cell_type": "code",
   "execution_count": 14,
   "id": "47a2ccdc-8516-4f2d-85a7-d87d28fcf8c7",
   "metadata": {},
   "outputs": [],
   "source": [
    "# .index() to get the index number of a particular item e.g"
   ]
  },
  {
   "cell_type": "code",
   "execution_count": 15,
   "id": "717decb3-ecb4-4523-b940-8ceb6088ef15",
   "metadata": {},
   "outputs": [
    {
     "data": {
      "text/plain": [
       "0"
      ]
     },
     "execution_count": 15,
     "metadata": {},
     "output_type": "execute_result"
    }
   ],
   "source": [
    "t.index(\"one\")"
   ]
  },
  {
   "cell_type": "code",
   "execution_count": 16,
   "id": "9fc8761a-3a38-43b8-9a8c-920ee5bcb3e1",
   "metadata": {},
   "outputs": [],
   "source": [
    "# .count() to count the total number of an item on the list e.g "
   ]
  },
  {
   "cell_type": "code",
   "execution_count": 18,
   "id": "19bc72fd-d9fd-40b1-b630-ecda8afca293",
   "metadata": {},
   "outputs": [
    {
     "data": {
      "text/plain": [
       "1"
      ]
     },
     "execution_count": 18,
     "metadata": {},
     "output_type": "execute_result"
    }
   ],
   "source": [
    "t.count(\"one\")"
   ]
  },
  {
   "cell_type": "code",
   "execution_count": 19,
   "id": "94ce665d-ca51-4604-9432-9e6e8684a024",
   "metadata": {},
   "outputs": [],
   "source": [
    "# We have atotal of 1 \"one\" in that List"
   ]
  },
  {
   "cell_type": "markdown",
   "id": "70d4ed64-5bde-47ab-a81e-ae1f6d7520e9",
   "metadata": {},
   "source": [
    "# Sets and Booleans"
   ]
  },
  {
   "cell_type": "markdown",
   "id": "c791612c-a5f3-4365-b724-9f7efc1e366a",
   "metadata": {},
   "source": [
    "#### Sets"
   ]
  },
  {
   "cell_type": "code",
   "execution_count": 21,
   "id": "92a68866-0dbf-44a1-b009-f05ba956dccc",
   "metadata": {},
   "outputs": [],
   "source": [
    "# Sets are unordered collection of unique elements"
   ]
  },
  {
   "cell_type": "code",
   "execution_count": 24,
   "id": "fc6d81f0-70f9-4b8a-986c-8f15bba21559",
   "metadata": {},
   "outputs": [],
   "source": [
    "# They can be constructed using a set keyword then into parenthesis function e.g"
   ]
  },
  {
   "cell_type": "code",
   "execution_count": 25,
   "id": "ff53f3b4-a700-4d7f-9647-2dd8377f3c5b",
   "metadata": {},
   "outputs": [],
   "source": [
    "x = set()"
   ]
  },
  {
   "cell_type": "code",
   "execution_count": 26,
   "id": "6555c35d-9501-4c36-8474-380709a5bfc7",
   "metadata": {},
   "outputs": [],
   "source": [
    "# To add items to a set use the .add() method e.g"
   ]
  },
  {
   "cell_type": "code",
   "execution_count": 27,
   "id": "c4d4e023-9171-4618-9a62-a2c3fc6a41da",
   "metadata": {},
   "outputs": [],
   "source": [
    "x.add(1)"
   ]
  },
  {
   "cell_type": "code",
   "execution_count": 28,
   "id": "fa429005-ba63-4957-a53f-bbe3f5a574ae",
   "metadata": {},
   "outputs": [
    {
     "data": {
      "text/plain": [
       "{1}"
      ]
     },
     "execution_count": 28,
     "metadata": {},
     "output_type": "execute_result"
    }
   ],
   "source": [
    "x"
   ]
  },
  {
   "cell_type": "code",
   "execution_count": 29,
   "id": "de8868b9-2874-469c-a37a-296ea91625f2",
   "metadata": {},
   "outputs": [],
   "source": [
    "# Let's add another item"
   ]
  },
  {
   "cell_type": "code",
   "execution_count": 30,
   "id": "373afb47-19ee-474b-9560-b6009990b592",
   "metadata": {},
   "outputs": [],
   "source": [
    "x.add(2)"
   ]
  },
  {
   "cell_type": "code",
   "execution_count": 31,
   "id": "09fae139-ace0-4152-81a4-9327ec2a3332",
   "metadata": {},
   "outputs": [
    {
     "data": {
      "text/plain": [
       "{1, 2}"
      ]
     },
     "execution_count": 31,
     "metadata": {},
     "output_type": "execute_result"
    }
   ],
   "source": [
    "x"
   ]
  },
  {
   "cell_type": "code",
   "execution_count": 32,
   "id": "2214513e-379d-4d21-8a60-023f64ba5b0d",
   "metadata": {},
   "outputs": [],
   "source": [
    "# Set returns or prints the unique items in a list e.g"
   ]
  },
  {
   "cell_type": "code",
   "execution_count": 33,
   "id": "658fe314-f95f-4ed6-aac2-5d26bba6298b",
   "metadata": {},
   "outputs": [],
   "source": [
    "list1 = [1, 1, 1, 2, 2, 3, 3, 4, 4, 5]"
   ]
  },
  {
   "cell_type": "code",
   "execution_count": 35,
   "id": "7700eb29-1752-4dcc-bd0a-b1adbfa89086",
   "metadata": {},
   "outputs": [
    {
     "data": {
      "text/plain": [
       "[1, 1, 1, 2, 2, 3, 3, 4, 4, 5]"
      ]
     },
     "execution_count": 35,
     "metadata": {},
     "output_type": "execute_result"
    }
   ],
   "source": [
    "list1"
   ]
  },
  {
   "cell_type": "code",
   "execution_count": 36,
   "id": "bacae77f-83e0-4612-9398-2b4aafa7d04e",
   "metadata": {},
   "outputs": [],
   "source": [
    "# Now..."
   ]
  },
  {
   "cell_type": "code",
   "execution_count": 37,
   "id": "165dc3ee-21d3-4e96-a0ed-ae2532c00944",
   "metadata": {},
   "outputs": [
    {
     "data": {
      "text/plain": [
       "{1, 2, 3, 4, 5}"
      ]
     },
     "execution_count": 37,
     "metadata": {},
     "output_type": "execute_result"
    }
   ],
   "source": [
    "set(list1)"
   ]
  },
  {
   "cell_type": "markdown",
   "id": "60b756c3-d4f1-4c0c-9169-c8828349a359",
   "metadata": {},
   "source": [
    "#### Booleans"
   ]
  },
  {
   "cell_type": "code",
   "execution_count": null,
   "id": "73014e84-04d7-4f8b-bea0-c587bbe5ea53",
   "metadata": {},
   "outputs": [],
   "source": [
    " # They are logical values indicating True or False"
   ]
  },
  {
   "cell_type": "code",
   "execution_count": 39,
   "id": "904e3946-8c0e-4a3f-948d-12f051e5b648",
   "metadata": {},
   "outputs": [],
   "source": [
    "# We use Booleans when we want to check certain conditions when programming e.g Is a > b, if a > b return TRUE else return FALSE\n",
    "# Always use capital letter for T in True"
   ]
  },
  {
   "cell_type": "code",
   "execution_count": 40,
   "id": "ae888ab6-dfd5-4015-80b3-1b0f953d7a62",
   "metadata": {},
   "outputs": [],
   "source": [
    "a = True"
   ]
  },
  {
   "cell_type": "code",
   "execution_count": 41,
   "id": "0493bdce-d1b8-4566-9417-0d2ea4177813",
   "metadata": {},
   "outputs": [
    {
     "data": {
      "text/plain": [
       "True"
      ]
     },
     "execution_count": 41,
     "metadata": {},
     "output_type": "execute_result"
    }
   ],
   "source": [
    "a"
   ]
  },
  {
   "cell_type": "code",
   "execution_count": 42,
   "id": "67ec56da-914c-4bc8-aac9-36968e16e228",
   "metadata": {},
   "outputs": [],
   "source": [
    "# We can use comparision operators to create Booleans e.g"
   ]
  },
  {
   "cell_type": "code",
   "execution_count": 43,
   "id": "f38c1b07-7b23-4376-859e-d9aa45a785ba",
   "metadata": {},
   "outputs": [
    {
     "data": {
      "text/plain": [
       "False"
      ]
     },
     "execution_count": 43,
     "metadata": {},
     "output_type": "execute_result"
    }
   ],
   "source": [
    "1>3"
   ]
  },
  {
   "cell_type": "code",
   "execution_count": 44,
   "id": "614354c2-6ac8-484a-988d-d99efbd7b2f3",
   "metadata": {},
   "outputs": [
    {
     "data": {
      "text/plain": [
       "True"
      ]
     },
     "execution_count": 44,
     "metadata": {},
     "output_type": "execute_result"
    }
   ],
   "source": [
    "3>1"
   ]
  },
  {
   "cell_type": "code",
   "execution_count": 46,
   "id": "c6f2f375-fe55-4565-a863-90dc17bd6f58",
   "metadata": {},
   "outputs": [
    {
     "name": "stdout",
     "output_type": "stream",
     "text": [
      "1 is not greater than 2\n"
     ]
    }
   ],
   "source": [
    "if 1  > 2:\n",
    "    print(\"1 is greater than 2\")\n",
    "else:\n",
    "    print(\"1 is not greater than 2\")\n"
   ]
  }
 ],
 "metadata": {
  "kernelspec": {
   "display_name": "Python 3 (ipykernel)",
   "language": "python",
   "name": "python3"
  },
  "language_info": {
   "codemirror_mode": {
    "name": "ipython",
    "version": 3
   },
   "file_extension": ".py",
   "mimetype": "text/x-python",
   "name": "python",
   "nbconvert_exporter": "python",
   "pygments_lexer": "ipython3",
   "version": "3.12.7"
  }
 },
 "nbformat": 4,
 "nbformat_minor": 5
}
